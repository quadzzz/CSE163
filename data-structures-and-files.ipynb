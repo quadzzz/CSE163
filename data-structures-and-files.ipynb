{
 "cells": [
  {
   "cell_type": "markdown",
   "id": "81913c6e-17c9-4474-bc91-f39805fda6d4",
   "metadata": {},
   "source": [
    "# Data Structures and Files\n",
    "In this section, we will review the basics of python including loops, strings, file processing, and data structures. \n",
    "\n",
    "For each problem in this handout, you'll be implementing the spec within the function problem. You may assume we will only pass parameters of the specified type and they are not None, but otherwise, you should make no assumptions about the parameters other then what we specify in the problem description.\n",
    "\n",
    "Lastly, solutions will be contained in section slides, which you can view after section."
   ]
  },
  {
   "cell_type": "markdown",
   "id": "d47332b6-963f-4236-bb26-12f8acc962d1",
   "metadata": {},
   "source": [
    "## DNA Match Score\n",
    "Write a function called `dna_match_score` that takes two strings as arguments that represent DNA sequence alignments and returns the score of the alignment. A string of DNA is a string composed of the characters `\"A\"`, `\"C\"`, `\"G\"`, `\"T\"`, or `\"-\"` to represent a gap in the alignment. The two strings will be the same length. You are guaranteed that the strings will be valid DNA alignments and that there won’t be two `\"-\"` in the same position in both strings. "
   ]
  },
  {
   "cell_type": "markdown",
   "id": "807db8e4-eb04-42dd-81cd-7f9e0fae8d62",
   "metadata": {},
   "source": [
    "We will use a simplified score function for alignments than what is actually used in practice. All that is needed to do here is add up the scores for each index in the two strings by comparing the characters that appear at the same index in both strings using the following rules:\n",
    "- If both characters match and are one of `\"A\"`, `\"C\"`, `\"G\"`, `\"T\"`, the score is +2.\n",
    "\n",
    "- If both characters are one of `\"A\"`, `\"C\"`, `\"G\"`, `\"T\"` but they don’t match, the score is -1.\n",
    "\n",
    "- If one character is one of `\"A\"`, `\"C\"`, `\"G\"`, `\"T\"` and the other is a gap `\"-\"`, the score is -2.\n",
    "\n",
    "For example, consider that the sequences given are `\"-ATGC\"` and `\"CATGT\"`. In order to calculate the score, we need to match up the strings and compute the score for each pair of characters at matching positions between the two strings. The table below shows the score for each index in the strings. \n",
    "\n",
    "| Row Name | Post 1 | Post 2 | Post 3 | Post 4 | Post 5|\n",
    "| --- | --- | --- | --- | --- | --- |\n",
    "| seq1 | - | A | T | G | C |\n",
    "| seq2 | C | A | T | G | T |\n",
    "| seq1 | -2 | +2 | +2 | +2 | -1 |\n",
    "\n",
    "At the 0th index, we are matching with a gap so the score is -2. For indices 1, 2, and 3 the scores are +2 for each index as the character A matches to A, T matches to T, and G matches to G. For index 3, we score this match as a -1 as the letters do not match and neither value is a `\"-\"`. The score for the overall alignment will come from adding the index scores together so we end up with -2 + 2 + 2 + 2 - 1 = 3. "
   ]
  },
  {
   "cell_type": "code",
   "execution_count": null,
   "id": "a0e3468c-48cf-4c12-8a8f-dabb0eac70fb",
   "metadata": {},
   "outputs": [],
   "source": [
    "def dna_match_score(seq1, seq2):\n",
    "    \"\"\"\n",
    "    Returns the alignment score of two DNA sequences of equal length, where the score is based off\n",
    "    of the number of matching (+2 points), non-matching (-1 points), and missing characters (-2 points). \n",
    "    \n",
    "    >>> dna_match_score(\n",
    "    ...    '-ATGC',\n",
    "    ...    'CATGT'\n",
    "    ...    )\n",
    "    3\n",
    "    >>> dna_match_score(\n",
    "    ...    'ATGC',\n",
    "    ...    'ATGC'\n",
    "    ...    )\n",
    "    8\n",
    "    >>> dna_match_score(\n",
    "    ...    '-AT',\n",
    "    ...    'C-T'\n",
    "    ...    )\n",
    "    -2\n",
    "    \"\"\"\n",
    "    ...\n"
   ]
  },
  {
   "cell_type": "markdown",
   "id": "5aaf1002-9af8-4d8b-8897-e5d4ecd152c8",
   "metadata": {
    "jp-MarkdownHeadingCollapsed": true
   },
   "source": [
    "## Words by Letter\n",
    "Write a function called `words_by_letter` which takes in a string parameter, `file_name`, and returns a dictionary where the keys are the letter and the value is the number of words that start with said letter. You should normalize the first letter of each word to be lowercase. If the file is empty, you should return an empty dictionary, `{}`."
   ]
  },
  {
   "cell_type": "code",
   "execution_count": null,
   "id": "1eb893fb-197b-42c7-951c-122d541ac801",
   "metadata": {},
   "outputs": [],
   "source": [
    "def words_by_letter(file_name):\n",
    "    \"\"\"\n",
    "    Returns a dictionary containing letter-count pairs, where each the count represents the number\n",
    "    of words starting with a given letter in file_name.\n",
    "\n",
    "    >>> words_by_letter(\n",
    "    ...    \"simple.txt\"\n",
    "    ...    )\n",
    "    {'t': 3, 's': 2, 'i': 1}\n",
    "    >>> words_by_letter(\n",
    "    ...    \"twister.txt\"\n",
    "    ...    )\n",
    "    {'p': 24, 'a': 3, 'o': 4, 'i': 1, 'w': 1, 't': 1}\n",
    "    \"\"\"\n",
    "    ...\n"
   ]
  },
  {
   "cell_type": "markdown",
   "id": "67f9ba88-3a89-47b8-9d54-2c1bdade5cde",
   "metadata": {
    "jp-MarkdownHeadingCollapsed": true
   },
   "source": [
    "## Count Divisible Digits\n",
    "Write a function `count_divisible_digits` that takes two integer numbers `n` and `m` as arguments and returns the number of digits in `n` that are divisible by `m`. If `m` is 0, then `count_divisible_digits` should return 0. For this problem, any digit in `n` that is 0 is divisible by any number. You may assume `m` is a single digit (0 ≤ `m` <10) and that it is not negative."
   ]
  },
  {
   "cell_type": "markdown",
   "id": "0696bbcd-b1ed-43c4-b735-607a12432096",
   "metadata": {},
   "source": [
    "**Do not** use `str` to solve this problem in any way to solve any part of the problem. Instead, you should solve this problem by manipulating the number itself using integer division. Here are some hints:\n",
    "\n",
    "- `n` // 10 evaluates to all but the last digit of `n`.\n",
    "\n",
    "- `n` % 10 evaluates to the last digit of `n`."
   ]
  },
  {
   "cell_type": "code",
   "execution_count": null,
   "id": "a545b73b-176e-4029-9133-cce355f880cf",
   "metadata": {},
   "outputs": [],
   "source": [
    "def count_divisible_digits(n, m):\n",
    "    \"\"\"\n",
    "    Returns the number of digits in n that are divisible by m. If m is 0, then retun 0. Likewise,\n",
    "    if any digit in n is 0, then it is divisible by all numbers.\n",
    "\n",
    "    >>> count_divisible_digits(\n",
    "    ...    650899,\n",
    "    ...    3\n",
    "    ...    )\n",
    "    4\n",
    "    >>> count_divisible_digits(\n",
    "    ...    -204,\n",
    "    ...    5\n",
    "    ...    )\n",
    "    1\n",
    "    >>> count_divisible_digits(\n",
    "    ...    10,\n",
    "    ...    0\n",
    "    ...    )\n",
    "    0\n",
    "    \"\"\"\n",
    "    ..."
   ]
  },
  {
   "cell_type": "markdown",
   "id": "bd437e09-3363-4ffa-b7f6-4b99c41814be",
   "metadata": {
    "jp-MarkdownHeadingCollapsed": true
   },
   "source": [
    "## Testing\n",
    "Run all the tests and ensure your code is working by running the following code block."
   ]
  },
  {
   "cell_type": "code",
   "execution_count": null,
   "id": "2643bd25-5e48-4386-b60a-50c9586a32f9",
   "metadata": {},
   "outputs": [],
   "source": [
    "import doctest\n",
    "doctest.testmod()"
   ]
  }
 ],
 "metadata": {
  "kernelspec": {
   "display_name": "Python 3 (ipykernel)",
   "language": "python",
   "name": "python3"
  },
  "language_info": {
   "codemirror_mode": {
    "name": "ipython",
    "version": 3
   },
   "file_extension": ".py",
   "mimetype": "text/x-python",
   "name": "python",
   "nbconvert_exporter": "python",
   "pygments_lexer": "ipython3",
   "version": "3.10.13"
  }
 },
 "nbformat": 4,
 "nbformat_minor": 5
}
