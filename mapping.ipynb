{
 "cells": [
  {
   "cell_type": "markdown",
   "id": "1083830b-ad38-4281-b98c-9ca8d9f124cd",
   "metadata": {},
   "source": [
    "# Mapping\n",
    "\n",
    "In response to the 2008 U.S. Farm Bill, the U.S. Department of Agriculture's [Economic Research Service](https://www.ers.usda.gov/about-ers/) compiled a [June 2009 report to Congress](https://www.ers.usda.gov/publications/pub-details/?pubid=42729):\n",
    "\n",
    "> According to data from the latest census (2000), about 23.5 million people, or 8.4 percent of the U.S. population, live in low-income neighborhoods that are more than a mile from a supermarket. Low-income neighborhoods are areas where more than 40 percent of the population has income less than or equal to 200 percent of the Federal poverty threshold ($44,000 per year for a family of four in 2008).\n",
    "\n",
    "In this assessment, we'll simulate their analysis by creating geospatial maps to help us understand food access in Washington. There are three geographic region types that we'll use in this assessment:\n",
    "\n",
    "- **Census tract** is a geographic region used in the U.S. census. It is the smallest of the three region types.\n",
    "- **County** is a geographic region used for administrative purposes that can include one or more census tracts.\n",
    "- **State** is a geographic region such as the State of Washington. It is the largest of the three region types.\n",
    "\n",
    "A census tract is defined as **low access** if enough people in the tract do not have nearby access to grocery stores offering affordable and nutritious food. In urban areas, \"low access\" is defined as 0.5 miles; in rural areas, \"low access\" is defined as 10 miles.\n",
    "\n",
    "`tl_2010_53_tract00.shp` contains the 2010 US census dataset in geospatial shapefile format only for Washington state (53). The only columns you need to use are `CTIDFP00`, the census tract identifier, and `geometry`, the geometric shape of the tract.\n",
    "\n",
    "`food_access.csv` contains the food access dataset in tabular CSV format. Each row in the dataset corresponds to a census tract for every state in the country (not just Washington). This dataset has many columns but you only need to understand the following:\n",
    "\n",
    "- `CensusTract` is the census tract identifier.\n",
    "- `State` is the state name for the census tract.\n",
    "- `County` is the county name for the census tract.\n",
    "- `Urban` is a flag (0 or 1) that indicates if this census tract is an urban environment.\n",
    "- `Rural` is a flag that indicates if this census tract is a rural environment.\n",
    "- `LATracts_half` is a flag that indicates if this census tract is \"low access\" in a half mile radius.\n",
    "- `LATracts10` is a flag that indicates if this census tract is \"low access\" in a 10 mile radius.\n",
    "- `LowIncomeTracts` is a flag that indicates if this census tract is \"low income\".\n",
    "- `POP2010` is the number of people in this census tract according to the 2010 census.\n",
    "- `lapophalf` is the number of people in this census tract considered having \"low access\" in a half mile radius.\n",
    "- `lapop10` is the number of people in this census tract considered having \"low access\" in a 10 mile radius.\n",
    "- `lalowihalf` is similar to `lapophalf` but only counts people considered low access and low income.\n",
    "- `lalowi10` is similar to `lapop10` but only counts people considered low access and low income."
   ]
  },
  {
   "cell_type": "code",
   "execution_count": null,
   "id": "c4b0273f-f7bc-4b27-8267-69e87bdc33c1",
   "metadata": {},
   "outputs": [],
   "source": [
    "!pip install -q folium mapclassify\n",
    "\n",
    "import geopandas as gpd\n",
    "import matplotlib.pyplot as plt\n",
    "import pandas as pd\n",
    "\n",
    "# For testing purposes\n",
    "import json\n",
    "import numpy as np\n",
    "from geopandas.plotting import _plot_polygon_collection\n",
    "from matplotlib.collections import PatchCollection\n",
    "\n",
    "with open(\"expected_idx.json\") as f:\n",
    "    rural_idx, rural_la_idx, urban_ha_idx, lalowi_idx = json.load(f)\n",
    "\n",
    "class MockAxes:\n",
    "    def add_collection(self, *args, **kwargs):\n",
    "        pass\n",
    "\n",
    "    def autoscale_view(self, *args, **kwargs):\n",
    "        pass\n",
    "\n",
    "def assert_patches_allclose(actual_patches, ax=MockAxes(), num_colors=None, **kwargs):\n",
    "    if isinstance(kwargs.get(\"geoms\"), str):\n",
    "        kwargs[\"geoms\"] = gpd.read_file(kwargs[\"geoms\"]).geometry\n",
    "    expected_patches = _plot_polygon_collection(ax=ax, **kwargs)\n",
    "    for expected, actual in zip(expected_patches.get_paths(), actual_patches.get_paths()):\n",
    "        np.testing.assert_allclose(expected.vertices, actual.vertices)\n",
    "    if \"color\" in kwargs:\n",
    "        np.testing.assert_allclose(expected_patches.get_fc(), actual_patches.get_fc())\n",
    "    elif isinstance(num_colors, int):\n",
    "        num_unique = len(np.unique(actual_patches.get_fc(), axis=0))\n",
    "        assert num_unique == num_colors, f\"expected {num_colors} colors, got {num_unique} colors\""
   ]
  },
  {
   "cell_type": "markdown",
   "id": "2f1233b0-e9dd-46d5-b24b-ca3ed338d6a2",
   "metadata": {},
   "source": [
    "## Task: Load in data\n",
    "\n",
    "Write a function `load_data` that takes path for census dataset and the path for the food access dataset and returns the `GeoDataFrame` resulting from merging the two datasets on the census tract identifiers `CTIDFP00` / `CensusTract`. Assume the census tract identifier columns exist: use only these two column names. Not all census tracts have food access data."
   ]
  },
  {
   "cell_type": "code",
   "execution_count": null,
   "id": "26c5e629-0b18-4d2d-84d4-943522bfca88",
   "metadata": {},
   "outputs": [],
   "source": [
    "def load_data(shp_path, csv_path):\n",
    "    ...\n",
    "\n",
    "\n",
    "state_data = load_data(\"tl_2010_53_tract00.shp\", \"food_access.csv\")\n",
    "display(state_data)\n",
    "assert type(state_data) == gpd.GeoDataFrame\n",
    "assert list(state_data.columns) == [\n",
    "    \"STATEFP00\", \"COUNTYFP00\", \"TRACTCE00\", \"CTIDFP00\", \"NAME00\", \"NAMELSAD00\", \"MTFCC00\",\n",
    "    \"FUNCSTAT00\", \"ALAND00\", \"AWATER00\", \"INTPTLAT00\", \"INTPTLON00\", \"geometry\", \"CensusTract\",\n",
    "    \"State\", \"County\", \"Urban\", \"Rural\", \"LATracts_half\", \"LATracts10\", \"GroupQuartersFlag\",\n",
    "    \"OHU2010\", \"NUMGQTRS\", \"PCTGQTRS\", \"LowIncomeTracts\", \"POP2010\", \"lapophalf\", \"lalowihalf\",\n",
    "    \"lapop10\", \"lalowi10\",\n",
    "]\n",
    "assert len(state_data) == 1318"
   ]
  },
  {
   "cell_type": "markdown",
   "id": "f761d3ef-8cce-4766-b7ee-27a7d1fb791a",
   "metadata": {},
   "source": [
    "## Task: Plot census tracts\n",
    "\n",
    "Write a function `plot_census_map` that takes the merged data and returns the `Axes` that contains shapes of all the census tracts in Washington. Title the plot \"Washington Census Tracts\" and turn off axis labels. The output should look look like Washington state with zig-zagging census tract lines."
   ]
  },
  {
   "cell_type": "code",
   "execution_count": null,
   "id": "d0115102-772c-4f7e-abc5-2087adb5b93e",
   "metadata": {},
   "outputs": [],
   "source": [
    "def plot_census_map(state_data):\n",
    "    ...\n",
    "\n",
    "\n",
    "ax = plot_census_map(state_data)\n",
    "pcs = ax.findobj(PatchCollection)\n",
    "assert_patches_allclose(pcs[0], geoms=state_data.geometry)\n",
    "assert len(pcs) == 1, \"unexpected extra plot layers\"\n",
    "assert ax.get_title() == \"Washington Census Tracts\", \"title does not match expected\"\n",
    "assert not ax.axison, \"borders and labels must be hidden\""
   ]
  },
  {
   "cell_type": "markdown",
   "id": "27e61bcb-512d-4d22-ba26-4237ca97a654",
   "metadata": {},
   "source": [
    "When given no arguments, the `dissolve` method considers the entire `GeoDataFrame` as a single group. This will be useful for plotting backgrounds later."
   ]
  },
  {
   "cell_type": "code",
   "execution_count": null,
   "id": "8c4d3a63-2b1c-4d91-8a8b-e495e8415085",
   "metadata": {},
   "outputs": [],
   "source": [
    "entire_state = state_data[[\"geometry\"]].dissolve()\n",
    "entire_state"
   ]
  },
  {
   "cell_type": "markdown",
   "id": "2587d6fa-a4a8-453b-922d-a54ec2cee35e",
   "metadata": {},
   "source": [
    "## Task: Plot census tract populations\n",
    "\n",
    "Write a function `plot_census_population_map` that takes the merged data and return the `Axes` that plots all the census tracts in Washington where each census tract is colored according to the `POP2010` column. There will be some missing census tracts. Underneath, plot the entire state of Washington in the background color `#EEE`. Title the plot \"Washington Census Tract Populations\", turn off axis labels, include a legend, and increase the figure size so that the map is the same height as the legend."
   ]
  },
  {
   "cell_type": "code",
   "execution_count": null,
   "id": "e6ba71f3-490c-4393-8930-2bbc7409ab6e",
   "metadata": {},
   "outputs": [],
   "source": [
    "def plot_census_population_map(state_data):\n",
    "    ...\n",
    "\n",
    "\n",
    "ax = plot_census_population_map(state_data)\n",
    "pcs = ax.findobj(PatchCollection)\n",
    "assert_patches_allclose(pcs[0], geoms=entire_state.geometry, color=\"#EEE\")\n",
    "assert_patches_allclose(pcs[1], geoms=state_data.dropna().geometry, num_colors=183)\n",
    "assert len(pcs) == 2, \"unexpected extra plot layers\"\n",
    "assert ax.get_title() == \"Washington Census Tract Populations\", \"title does not match expected\"\n",
    "assert not ax.axison, \"borders and labels must be hidden\"\n",
    "cbar = ax.get_figure().get_axes()[-1]\n",
    "assert cbar.get_label() == \"<colorbar>\", \"missing legend\"\n",
    "assert ax.bbox.height == cbar.bbox.height, \"map can be enlarged\""
   ]
  },
  {
   "cell_type": "markdown",
   "id": "0dea9d28-1494-42ae-8e7e-ed4d13b6a94a",
   "metadata": {},
   "source": [
    "## Task: Plot county populations\n",
    "\n",
    "Write a function `plot_county_populations_map` that takes the merged data and returns the `Axes` that plots all the counties in Washington where each county is colored according to the `POP2010` column. This will require combining all the census tract data and geometries for each county, though there will be missing data for some counties. Underneath, plot the entire state of Washington in the background color `#EEE`. Title the plot \"Washington County Populations\", turn off axis labels, include a legend, and increase the figure size so that the map is the same height as the legend."
   ]
  },
  {
   "cell_type": "code",
   "execution_count": null,
   "id": "aa9f6a08-e4eb-417b-a47e-61acec69bd4a",
   "metadata": {},
   "outputs": [],
   "source": [
    "def plot_county_population_map(state_data):\n",
    "    ...\n",
    "\n",
    "\n",
    "ax = plot_county_population_map(state_data)\n",
    "pcs = ax.findobj(PatchCollection)\n",
    "assert_patches_allclose(pcs[0], geoms=entire_state.geometry, color=\"#EEE\")\n",
    "assert_patches_allclose(pcs[1], geoms=\"counties.geojson\", num_colors=20)\n",
    "assert len(pcs) == 2, \"unexpected extra plot layers\"\n",
    "assert ax.get_title() == \"Washington County Populations\", \"title does not match expected\"\n",
    "assert not ax.axison, \"borders and labels must be hidden\"\n",
    "cbar = ax.get_figure().get_axes()[-1]\n",
    "assert cbar.get_label() == \"<colorbar>\", \"missing legend\"\n",
    "assert ax.bbox.height == cbar.bbox.height, \"map can be enlarged\""
   ]
  },
  {
   "cell_type": "markdown",
   "id": "a5ede98c-67f3-4891-bdc3-613e46b8aa1c",
   "metadata": {},
   "source": [
    "## Task: Plot food access by county\n",
    "\n",
    "Write a function `plot_food_access_by_county_map` that takes the merged data and returns a 4-tuple of `Axes` that represent the subplots in a 2-by-2 figure consisting of 4 choropleth maps:\n",
    "\n",
    "- Top left plot titled \"Low Access: Half Mile\" showing the proportion of people per county who have low access to food within a half mile `lapophalf` out of the total population `POP2010`.\n",
    "- Top right plot titled \"Low Access + Low Income: Half Mile\" showing the proportion of people per county considered low income who also have low access to food within a half mile `lalowihalf` out of the total population `POP2010`.\n",
    "- Bottom left plot titled \"Low Access: 10 Miles\" showing the proportion of people per county who have low access to food within 10 miles `lapop10` out of the total population `POP2010`.\n",
    "- Bottom right plot titled \"Low Access + Low Income: 10 Miles\" showing the proportion of people per county considered low income who also have low access to food within 10 miles `lalowi10` out of the total population `POP2010`.\n",
    "\n",
    "When calling `plot`, specify the keyword arguments `vmin=0` and `vmax=1` so that the subplots all share the same scale. Underneath, plot the entire state of Washington in the background color `#EEE`. We recommend preparing subplots with `figsize=(15, 10)`. Turn off axis labels on each subplot."
   ]
  },
  {
   "cell_type": "code",
   "execution_count": null,
   "id": "4c7e3916-6da4-4d14-b514-f33d75098c32",
   "metadata": {},
   "outputs": [],
   "source": [
    "def plot_food_access_by_county_map(state_data):\n",
    "    ...\n",
    "\n",
    "\n",
    "axs = plot_food_access_by_county_map(state_data)\n",
    "expected_titles = [\"Low Access: Half Mile\", \"Low Access + Low Income: Half Mile\",\n",
    "                   \"Low Access: 10 Miles\", \"Low Access + Low Income: 10 Miles\"]\n",
    "for ax, expected_num_colors, expected_title in zip(axs, [31, 23, 19, 16], expected_titles):\n",
    "    pcs = ax.findobj(PatchCollection)\n",
    "    assert_patches_allclose(pcs[0], geoms=entire_state.geometry, color=\"#EEE\")\n",
    "    assert_patches_allclose(pcs[1], geoms=\"counties.geojson\", num_colors=expected_num_colors)\n",
    "    assert len(pcs) == 2, \"unexpected extra plot layers\"\n",
    "    assert ax.get_title() == expected_title, f\"title {ax.get_title()} does not match expected\"\n",
    "    assert not ax.axison, \"borders and labels must be hidden\""
   ]
  },
  {
   "cell_type": "markdown",
   "id": "f4d723fe-c114-4c09-a064-d27391d50525",
   "metadata": {},
   "source": [
    "## Writeup: Food access by county\n",
    "\n",
    "Setting aside the lack of a legend in `plot_food_access_by_county_map`, is it an effective visualization? Why or why not?"
   ]
  },
  {
   "cell_type": "markdown",
   "id": "005baaba-fba0-442c-93d4-d196a88e9cc2",
   "metadata": {},
   "source": [
    "*Replace this text with your answer.*"
   ]
  },
  {
   "cell_type": "markdown",
   "id": "94a40faf-3b18-43a4-91a1-f112ba5803fb",
   "metadata": {},
   "source": [
    "## Task: Plot low access census tracts\n",
    "\n",
    "Write a function `plot_census_low_access_map` that takes the merged data and returns the `Axes` that plots all census tracts (not counties) considered low access using 5 `plot` layers for the following definitions for \"low access\" in urban and rural tracts. For this task, do not use the `LATracts_half` or `LATracts10` columns in the merged data; the procedure described below intentionally results in different values.\n",
    "\n",
    "1. Plot the map of Washington in the background with color `#EEE`.\n",
    "\n",
    "1. Plot all the `Urban` and `Rural` census tracts for which we have food access data in the color `#AAA`.\n",
    "\n",
    "1. Plot all the `Urban` and `Rural` census tracts considered low access in the default (blue) color.\n",
    "\n",
    "   **Low access in an urban census tract** is defined by a `lapophalf` value that is at least 500 people or at least 33% of the census tract population.\n",
    "\n",
    "   **Low access in a rural census tract** is defined by a `lapop10` value that is at least 500 people or at least 33% of the census tract population.\n",
    "\n",
    "Finally, title the plot \"Low Access Census Tracts\" and turn off axis labels."
   ]
  },
  {
   "cell_type": "code",
   "execution_count": null,
   "id": "a27c0b93-05f1-4429-9d34-524c2f169ddc",
   "metadata": {},
   "outputs": [],
   "source": [
    "def plot_census_low_access_map(state_data):\n",
    "    ...\n",
    "\n",
    "\n",
    "ax = plot_census_low_access_map(state_data)\n",
    "pcs = ax.findobj(PatchCollection)\n",
    "assert_patches_allclose(pcs[0], geoms=entire_state.geometry, color=\"#EEE\")\n",
    "urban_idx = state_data[\"Urban\"].notna() & ~state_data.index.isin(rural_idx)\n",
    "urban_la_idx = urban_idx & ~state_data.index.isin(urban_ha_idx)\n",
    "error = None\n",
    "for i, j, k, l in [\n",
    "    [1, 2, 3, 4], # urban, rural, urban low access, rural low access\n",
    "    [2, 1, 3, 4], # rural, urban, urban low access, rural low access\n",
    "    [1, 2, 4, 3], # urban, rural, rural low access, urban low access\n",
    "    [2, 1, 4, 3], # rural, urban, rural low access, urban low access\n",
    "    [1, 3, 2, 4], # urban, urban low access, rural, rural low access\n",
    "    [3, 1, 4, 2], # rural, rural low access, urban, urban low access\n",
    "]:\n",
    "    try:\n",
    "        assert_patches_allclose(pcs[i], geoms=state_data.loc[urban_idx, \"geometry\"], color=\"#AAA\")\n",
    "        assert_patches_allclose(pcs[j], geoms=state_data.loc[rural_idx, \"geometry\"], color=\"#AAA\")\n",
    "        assert_patches_allclose(pcs[k], geoms=state_data.loc[urban_la_idx, \"geometry\"])\n",
    "        assert_patches_allclose(pcs[l], geoms=state_data.loc[rural_la_idx, \"geometry\"])\n",
    "        break\n",
    "    except AssertionError as e:\n",
    "        if error is None: # Store only the first error encountered during testing\n",
    "            error = e\n",
    "else: # Only raise an error if none of the possible ways to layer the plot worked\n",
    "    raise error\n",
    "assert len(pcs) == 5, \"unexpected extra plot layers\"\n",
    "assert ax.get_title() == \"Low Access Census Tracts\", \"title does not match expected\"\n",
    "assert not ax.axison, \"borders and labels must be hidden\""
   ]
  },
  {
   "cell_type": "markdown",
   "id": "7b2caa6d-320b-4e79-aa45-f45536f8e2a0",
   "metadata": {},
   "source": [
    "## Writeup: Data-driven decision-making\n",
    "\n",
    "What is one way that government or food access organizations could use `plot_food_access_by_county` or `plot_low_access_tracts` to shape their decisions or policies? Then, explain one limitation or concern with using the plots in the way you suggested."
   ]
  },
  {
   "cell_type": "markdown",
   "id": "872889fd-5c99-40aa-ac7f-84197a1a136a",
   "metadata": {},
   "source": [
    "*Replace this text with your answer.*"
   ]
  },
  {
   "cell_type": "markdown",
   "id": "321ea9e4-5a7c-4ca9-a4cc-5d85e8cdbb9b",
   "metadata": {},
   "source": [
    "## Task: Interactive map\n",
    "\n",
    "Although the initial report to Congress was completed in June 2009, the Economic Research Service has since then maintained an interactive map for their [**Food Access Research Atlas**](https://gisportal.ers.usda.gov/ers/GIS_FARA/lowincome_lowaccess.html). Open this interactive map, turn off the default layer \"LI and LA and 1 and 10 miles\", and turn on the layer \"LI and LA at 1/2 and 10 miles\". This layer displays:\n",
    "\n",
    "> Low-income census tracts where a significant number or share of residents is more than 1/2 mile (urban) or 10 miles (rural) from the nearest supermarket.\n",
    "\n",
    "Write a function `interactive_map` that returns a Folium `Map` of low income and low access census tracts in Washington. Include only `LowIncomeTracts` that are either low access at half a mile `LATracts_half` or low access at 10 miles `LATracts10` depending on whether the census tract is `Urban` or `Rural`, respectively. This dataset does not match the Food Access Research Atlas, so some differences are to be expected. It is also OK if your interactive map does not appear in the PDF printout as PDF files cannot embed interactive maps."
   ]
  },
  {
   "cell_type": "code",
   "execution_count": null,
   "id": "dc49922a-3253-4c8c-9d10-66ff13ff0ff5",
   "metadata": {},
   "outputs": [],
   "source": [
    "def interactive_map(state_data):\n",
    "    ...\n",
    "\n",
    "\n",
    "map = interactive_map(state_data)\n",
    "display(map)\n",
    "geojson = next(reversed(map._children.values())).data\n",
    "assert [int(d[\"id\"]) for d in geojson[\"features\"]] == lalowi_idx, \"wrong selection\""
   ]
  },
  {
   "cell_type": "markdown",
   "id": "20f1ca33-264b-4a6a-9b8f-091e96655f27",
   "metadata": {},
   "source": [
    "## Writeup: Build a new supermarket\n",
    "\n",
    "Using the interactive map above, locate the low-income low-access census tract closest to your favorite place in Washington. Then, identify a location (a specific street intersection, such as \"University Way NE & NE 45th St\") to add a new supermarket that would serve the people living in that census tract. Finally, explain the considerations that factored into your choice of location.\n",
    "\n",
    "This dataset is outdated, so assume there are no supermarkets in any low-income low-access census tract even if supermarkets are present today."
   ]
  },
  {
   "cell_type": "markdown",
   "id": "cc538e8d-ea58-440a-b5e6-e356e1691045",
   "metadata": {},
   "source": [
    "*Replace this text with your answer.*"
   ]
  }
 ],
 "metadata": {
  "kernelspec": {
   "display_name": "Python 3 (ipykernel)",
   "language": "python",
   "name": "python3"
  },
  "language_info": {
   "codemirror_mode": {
    "name": "ipython",
    "version": 3
   },
   "file_extension": ".py",
   "mimetype": "text/x-python",
   "name": "python",
   "nbconvert_exporter": "python",
   "pygments_lexer": "ipython3",
   "version": "3.10.13"
  }
 },
 "nbformat": 4,
 "nbformat_minor": 5
}
