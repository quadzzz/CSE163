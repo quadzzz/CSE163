{
 "cells": [
  {
   "cell_type": "markdown",
   "id": "b1b675fc-7aff-4c5c-b0e7-bb785817e979",
   "metadata": {},
   "source": [
    "# Primer\n",
    "\n",
    "In this assessment, you'll implement and test a variety of unrelated functions to demonstrate your ability to apply control structures and data structures to solve problems involving numbers, text, and files. There's no realistic data science motivation or context for this assignment: it's just a grab-bag of questions. Future assessments will have more context.\n",
    "\n",
    "For each question, you'll be asked to write a function and test it. We've provided several input-output examples for each function. To fulfill testing requirements, convert each provided example into a doctest and **additionally write 2 more test cases of your own**. Be ready to justify and explain the design of all your work: how and why did you write each line of code?\n",
    "\n",
    "## Task: `is_relatively_prime`\n",
    "\n",
    "Write and test a function `is_relatively_prime` that takes two integer numbers `n` and `m` and returns `True` if and only if `n` and `m` are relatively prime to each other. Two numbers are relatively prime if they share no common factors besides 1. (1 is relatively prime with every number.) Assume the value of `n` and `m` are at least 1.\n",
    "\n",
    "- `is_relatively_prime(12, 13)` returns `True` since the factors of 12 are 1, 2, 3, 4, 6, 12 and the factors of 13 are 1, 13.\n",
    "- `is_relatively_prime(12, 14)` returns `False` since the factors of 12 are 1, 2, 3, 4, 6, 12 and the factors of 14 are 1, 2, 7, 14.\n",
    "- `is_relatively_prime(5, 9)` returns `True` since the factors of 5 are 1, 5 and the factors of 9 are 1, 3, 9.\n",
    "- `is_relatively_prime(8, 9)` returns `True` since the factors of 8 are 1, 2, 4, 8 and the factors of 9 are 1, 3, 9.\n",
    "- `is_relatively_prime(8, 1)` returns `True` since we define that 1 is relatively prime with every number.\n",
    "\n",
    "Do not use data structures to store factors during the execution of the algorithm, and use a single loop rather than nested loops."
   ]
  },
  {
   "cell_type": "code",
   "execution_count": null,
   "id": "da1c4734-5a86-4db8-86b7-8c6e1da96594",
   "metadata": {},
   "outputs": [],
   "source": []
  },
  {
   "cell_type": "markdown",
   "id": "01fa76ba-c51c-4013-a72a-0dc6f1dd78b0",
   "metadata": {},
   "source": [
    "## Task: `travel`\n",
    "\n",
    "Write and test a function `travel` that takes a string of north/east/south/west directions and a `tuple` indicating the starting `x, y` location on a grid. This function should return a `tuple` that indicates the new position after following the directions starting from the starting `x, y` location. The returned tuple should be in the format `(x_new, y_new)`. Assume we use integer coordinates where each direction increments or decrements a coordinate by 1.\n",
    "\n",
    "The directions string will use `\"N\"` to indicate increasing the y-coordinate, `\"E\"` to indicate increasing the x-coordinate, `\"S\"` to indicate decreasing the y-coordinate, and `\"W\"` to indicate decreasing the x-coordinate. The case of the characters should be ignored. You can assume that `x` and `y` are both of type `int`. Any characters that are not `\"N\"`, `\"E\"`, `\"W\"`, or `\"S\"` (ignoring letter-casing) should be ignored.\n",
    "\n",
    "`travel(\"NW!ewnW\", (1, 2))` should return the tuple `(-1, 4)` following this sequence of movements:\n",
    "\n",
    "1. Start at `(1, 2)`.\n",
    "1. Move `\"N\"` to `(1, 3)`.\n",
    "1. Move `\"W\"` to `(0, 3)`.\n",
    "1. Ignore `\"!\"` since it is not a valid direction.\n",
    "1. Move `\"e\"` to `(1, 3)`.\n",
    "1. Move `\"w\"` to `(0, 3)`.\n",
    "1. Move `\"n\"` to `(0, 4)`.\n",
    "1. Move `\"W\"` to `(-1, 4)`."
   ]
  },
  {
   "cell_type": "code",
   "execution_count": null,
   "id": "0c0eb1fd-4408-4b02-a1b4-9c3950e0fbc1",
   "metadata": {},
   "outputs": [],
   "source": []
  },
  {
   "cell_type": "markdown",
   "id": "414e69e2-c96d-40fa-8ad4-c4041e4fc74a",
   "metadata": {},
   "source": [
    "## Task: `longest_token`\n",
    "\n",
    "Write and test a function `longest_token` that takes a string file path and returns a `tuple` of the longest token in the file and the line it appears on.\n",
    "\n",
    "A **token** is a sequence of characters separated by whitespace. If there are ties for the longest token, return the one that appears first in the file. Behavior is undefined if the file does not exist, the file is empty, or the file only contains whitespace.\n",
    "\n",
    "For example, if we have a file `song.txt` with the following contents.\n",
    "\n",
    "```\n",
    "Row, row, row your boat\n",
    "Gently down the stream\n",
    "Merrily, merrily, merrily, merrily\n",
    "Life is but a dream!\n",
    "```\n",
    "\n",
    "`longest_token(\"song.txt\")` should return `(\"Merrily,\", 3)`.\n",
    "\n",
    "To write additional test cases, create new text files. From the JupyterLab **File** menu, choose **New** and then **Text File**."
   ]
  },
  {
   "cell_type": "code",
   "execution_count": null,
   "id": "1794bae1-8ea6-4820-944e-005676564b83",
   "metadata": {},
   "outputs": [],
   "source": []
  },
  {
   "cell_type": "markdown",
   "id": "924a8f2d-8126-4b40-b388-3e0e5238f91c",
   "metadata": {},
   "source": [
    "## Task: `reformat_date`\n",
    "\n",
    "Write and test a function `reformat_date` that takes three strings: a date string, an input date format, and an output date format. This function should return a new date string formatted according to the output date format.\n",
    "\n",
    "A **date string** is a non-empty string of numbers separated by `/`, such as `\"2/20/1991\"` or `\"1991/02/20\"`. The order of date fields (month, day, year) will depend on the date format, and the number of digits for each field can vary but there must be at least one digit for each field.\n",
    "\n",
    "A **date format** is a non-empty string of the date symbols `\"D\"`, `\"M\"`, `\"Y\"` separated by `/`. Assume the date string will match the date formats (share the same number of `/`s), that any date symbol in the output date format will also appear in the input date format, and that date formats do not duplicate date symbols.\n",
    "\n",
    "- `reformat_date(\"12/31/1998\", \"M/D/Y\", \"D/M/Y\")` returns `\"31/12/1998\"`.\n",
    "- `reformat_date(\"1/2/3\", \"M/D/Y\", \"Y/M/D\")` returns `\"3/1/2\"`.\n",
    "- `reformat_date(\"0/200/4\", \"Y/D/M\", \"M/Y\")` returns `\"4/0\"`.\n",
    "- `reformat_date(\"3/2\", \"M/D\", \"D\")` returns `\"2\"`.\n",
    "\n",
    "The following calls do not satisfy the date string or date format requirements, so their behavior is **undefined**: your program may do anything, including crash or throw an exception. You do not need to validate or test these cases.\n",
    "\n",
    "- `reformat_date(\"3/2\", \"M/D/Y\", \"Y/M/D\")` date string and input date format do not match.\n",
    "- `reformat_date(\"3/2\", \"M/D\", \"Y/M/D\")` input date format missing a field present in the output date format.\n",
    "- `reformat_date(\"1/2/3/4\", \"M/D/Y/S\", \"M/D\")` input date format contains a field that is not `\"D\"`, `\"M\"`, `\"Y\"`.\n",
    "- `reformat_date(\"1/2/3\", \"M/M/Y\", \"M/Y\")` input date format contains a duplicate date symbol.\n",
    "- `reformat_date(\"\", \"\", \"\")` date strings and date formats must be non-empty strings."
   ]
  },
  {
   "cell_type": "code",
   "execution_count": null,
   "id": "881eb6e8-1c80-4767-8749-f1acb3b05c7e",
   "metadata": {},
   "outputs": [],
   "source": []
  },
  {
   "cell_type": "markdown",
   "id": "cde2ec0c-2bdd-4a39-bc9e-0d46c381905d",
   "metadata": {},
   "source": [
    "## Task: `most_frequent`\n",
    "\n",
    "Write and test a function `most_frequent` that takes a list of integers and returns the integer value that appears most frequently in the list. If there is more than one most frequent integer, return the one that appears first in the sequence. Assume the list has at least 1 value.\n",
    "\n",
    "- `most_frequent([1, 2, 1, 2, 1])` returns `1`.\n",
    "- `most_frequent([0])` returns `0`.\n",
    "- `most_frequent([-1, 2, 2])` returns `2`.\n",
    "- `most_frequent([1, 2, 1, 1, 2, 3, 2, 2, 3, 1])` returns `1`."
   ]
  },
  {
   "cell_type": "code",
   "execution_count": null,
   "id": "c8adc78f-373b-4271-949b-f0aae6983c2a",
   "metadata": {},
   "outputs": [],
   "source": []
  },
  {
   "cell_type": "markdown",
   "id": "709784fd-5998-4f1a-a4ca-820de521f0f5",
   "metadata": {},
   "source": [
    "## Testing\n",
    "\n",
    "Ideally, all the test cases should pass. However, passing test cases is not strictly necessary for completion. Double check that **each task has 2 of your own additional test cases**."
   ]
  },
  {
   "cell_type": "code",
   "execution_count": null,
   "id": "20b5051d-2f6c-440d-a44a-1b5911334eb6",
   "metadata": {},
   "outputs": [],
   "source": [
    "import doctest\n",
    "doctest.testmod()"
   ]
  }
 ],
 "metadata": {
  "kernelspec": {
   "display_name": "Python 3 (ipykernel)",
   "language": "python",
   "name": "python3"
  },
  "language_info": {
   "codemirror_mode": {
    "name": "ipython",
    "version": 3
   },
   "file_extension": ".py",
   "mimetype": "text/x-python",
   "name": "python",
   "nbconvert_exporter": "python",
   "pygments_lexer": "ipython3",
   "version": "3.10.13"
  }
 },
 "nbformat": 4,
 "nbformat_minor": 5
}
