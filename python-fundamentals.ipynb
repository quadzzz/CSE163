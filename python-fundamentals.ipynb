{
 "cells": [
  {
   "cell_type": "markdown",
   "id": "bfe02f6e-492d-465a-b6b0-1d1422d2ca81",
   "metadata": {
    "tags": []
   },
   "source": [
    "# Python Fundamentals\n",
    "\n",
    "This section is all about learning JupyterHub: the place where most of your at-home code-writing in this course will be conducted. We won't focus so much on practicing the Python programming we are learning in class so far as we will have plenty of practice in the coming weeks. Instead, we want to focus on the tools and processes you will use while developing Python in JupyterHub since that can make you more efficient when solving problems in this class.\n",
    "\n",
    "The most convenient way to work in this course is using JupyterHub, a service provided by UW-IT for running your work on UW servers. This lets you work anywhere from any computer, and your data is constantly backed-up online. However, if you prefer to store and run all your programs on your own computer, this course uses common data science packages for Python that you can optionally [install via Anaconda](https://www.anaconda.com/download)."
   ]
  },
  {
   "cell_type": "markdown",
   "id": "7408c07b-ddb9-40ff-aba6-b77f71757d60",
   "metadata": {
    "tags": []
   },
   "source": [
    "## While loops\n",
    "\n",
    "A while loop has a condition and a body. The while loop proceeds in iterations, each iteration executes the body only if the condition is True, otherwise the loop ends. In general, a while loop looks like\n",
    "\n",
    "```python\n",
    "while condition:\n",
    "    # Loop body\n",
    "    statement\n",
    "    statement\n",
    "    statement\n",
    "```"
   ]
  },
  {
   "cell_type": "markdown",
   "id": "7662c176-b18d-4b21-b66b-d76d014fb31f",
   "metadata": {
    "tags": []
   },
   "source": [
    "For example, the code below shows an example of a very simple loop."
   ]
  },
  {
   "cell_type": "code",
   "execution_count": null,
   "id": "cfafffe9-8b49-47af-8499-432730fbad18",
   "metadata": {
    "tags": []
   },
   "outputs": [],
   "source": [
    "x = 1\n",
    "while x < 100:\n",
    "    print(x)\n",
    "    x = x * 2\n",
    "\n",
    "print('After loop', x)"
   ]
  },
  {
   "cell_type": "markdown",
   "id": "4e78f6af-0733-4a60-ae6d-1d8e6590c943",
   "metadata": {},
   "source": [
    "Notice that the condition here is `x < 100` so the loop keeps executing the body (`print(x)` and `x = x * 2`) until the next iteration it is false (when `x = 128`). After the loop ends, it continues on to the code after the loop: `print('After loop', x)`"
   ]
  },
  {
   "cell_type": "markdown",
   "id": "def93986-d932-40bc-be52-2f7f42c0e660",
   "metadata": {},
   "source": [
    "## For loops\n",
    "\n",
    "In Python, the **for loop** lets you iterate over a sequence of values. The `for` loop has a **body** that runs for each item in a **sequence** and uses a **loop variable** to keep track of the current item.\n",
    "\n",
    "We'll start by showing an example and then explain the parts."
   ]
  },
  {
   "cell_type": "code",
   "execution_count": null,
   "id": "fdd31250-f527-4d92-a025-55fe11e07987",
   "metadata": {
    "tags": []
   },
   "outputs": [],
   "source": [
    "for i in range(5):\n",
    "    print('Loop', i)"
   ]
  },
  {
   "cell_type": "markdown",
   "id": "fc848550-f68a-407e-8dd5-9b3d93beece8",
   "metadata": {},
   "source": [
    "- `range(5)` describes the **sequence** of values we want to use. In this case, `range(5)` means the values `0, 1, 2, 3, 4`. We will explain `range` in the next section.\n",
    "- `i` is the **loop variable** that can be used in the body. On the first iteration `i = 0`, then `i = 1` on the next, and so on until the last iteration where `i = 4`.\n",
    "- `print('Loop', i)` is the **body**.\n",
    "\n",
    "The `for` loop operates very similarly to the `while` loop, but the key difference is it will loop over the sequence of values specified after the `in` keyword. Just like the `while` loop, you put a `:` at the end of the line containing the keyword `for` and the body is indented inside the loop."
   ]
  },
  {
   "cell_type": "markdown",
   "id": "73f30c91-439b-4e7d-bf3e-9b18e845ba13",
   "metadata": {},
   "source": [
    "## Range function\n",
    "\n",
    "`range` is a function in Python provided to make it easy to make sequences of numbers in a range. It turns out, there are three different ways to call `range` that let you do slightly different types of loops!"
   ]
  },
  {
   "cell_type": "code",
   "execution_count": null,
   "id": "0223e993-e7ed-486d-bf84-f7d81739c4ad",
   "metadata": {
    "tags": []
   },
   "outputs": [],
   "source": [
    "# From 0 (inclusive) to A (exclusive)\n",
    "for i in range(4):\n",
    "    print('Loop', i)"
   ]
  },
  {
   "cell_type": "code",
   "execution_count": null,
   "id": "35025018-2903-4986-bd72-cdb79a99d3a9",
   "metadata": {},
   "outputs": [],
   "source": [
    "# From A (inclusive) to B (exclusive)\n",
    "for i in range(3, 7):\n",
    "    print('Loop', i)"
   ]
  },
  {
   "cell_type": "code",
   "execution_count": null,
   "id": "27b16ece-425a-4cbf-887d-359020a87b71",
   "metadata": {},
   "outputs": [],
   "source": [
    "# From A (inclusive) to B (exclusive) using step size C\n",
    "for i in range(1, 10, 3):\n",
    "    print('Loop', i)"
   ]
  },
  {
   "cell_type": "markdown",
   "id": "5574265a-440d-4c8a-aef7-a5110525f149",
   "metadata": {},
   "source": [
    "There is no reason that these numbers have to be positive! For example, you can use negative numbers for the start/stop or use a negative step size to make the numbers decrease instead! The semantics are exactly the same!"
   ]
  },
  {
   "cell_type": "markdown",
   "id": "86eee017-e6a3-4f50-a4eb-fce5cb24fd80",
   "metadata": {
    "tags": []
   },
   "source": [
    "## Countdown\n",
    "\n",
    "Now, write a function `countdown` that takes a starting number of `int` seconds and starts the countdown from there instead (still decrementing by 10s).\n",
    "\n",
    "The format of the output will be slightly different to accommodate this starting point: if the sequence does not exactly count down to `0` (starting from `15`), then `0` will not be printed. If the starting number of seconds is less than `0`, it should instead print `Start must be non-negative!`\n",
    "\n",
    "Here are four example calls to the function with their corresponding outputs. `print` statements are included for spacing between different calls to `countdown`.\n",
    "\n",
    "```python\n",
    "countdown(60)\n",
    "print()\n",
    "countdown(15)\n",
    "print()\n",
    "countdown(-4)\n",
    "print()\n",
    "countdown(0)\n",
    "``` "
   ]
  },
  {
   "cell_type": "markdown",
   "id": "64b61f77-7221-4ef2-80e7-7b4443bc26b3",
   "metadata": {},
   "source": [
    "Output:\n",
    "\n",
    "```\n",
    "60 second countdown\n",
    "60\n",
    "50\n",
    "40\n",
    "30\n",
    "20\n",
    "10\n",
    "0\n",
    "Done!\n",
    "\n",
    "15 second countdown\n",
    "15\n",
    "5\n",
    "Done!\n",
    "\n",
    "Start must be non-negative!\n",
    "\n",
    "0 second countdown\n",
    "0\n",
    "Done!\n",
    "```"
   ]
  },
  {
   "cell_type": "code",
   "execution_count": null,
   "id": "a298d1e2-2846-4415-92fa-7d6f1139e48e",
   "metadata": {
    "tags": []
   },
   "outputs": [],
   "source": [
    "# Define and write your countdown method here!\n",
    "\n"
   ]
  },
  {
   "cell_type": "code",
   "execution_count": null,
   "id": "ad655147-ac8b-493a-9176-468ff6ac7b55",
   "metadata": {
    "tags": []
   },
   "outputs": [],
   "source": [
    "# After writing your countdown method, run this codeblock to see if you get the expected outputs!\n",
    "\n",
    "countdown(60)\n",
    "print()\n",
    "countdown(15)\n",
    "print()\n",
    "countdown(-4)\n",
    "print()\n",
    "countdown(0)"
   ]
  },
  {
   "cell_type": "markdown",
   "id": "9bf5ab6f-d95e-4b64-8b26-04fc2a1b0b18",
   "metadata": {},
   "source": [
    "## FizzBuzz\n",
    "\n",
    "To help us learn how to use JupyterHub, we'll start with a small program called **FizzBuzz**. The problem goes as follows:\n",
    "\n",
    "> Write a function called `fizz_buzz` that takes a number `n` and prints all the numbers from 0 to `n` (exclusive) one on each line. However, for each number that is divisible by 3, it should print the word `Fizz` instead of that number. For each multiple of 5, you should print the word `Buzz` instead of that number. For numbers that are multiples of both 3 and 5, you should print `FizzBuzz`.\n",
    "\n",
    "JupyterHub shows the output of your program right underneath the code cell that was responsible for running it. Let's start by running the **code cell** below by using the keyboard combination `Shift+Enter`."
   ]
  },
  {
   "cell_type": "code",
   "execution_count": null,
   "id": "6e98a8fa-a536-4f82-b643-856983d13320",
   "metadata": {
    "tags": []
   },
   "outputs": [],
   "source": [
    "def fizz_buzz(n):\n",
    "    for i in range(n):\n",
    "        if i % 3 == 0:\n",
    "            print(\"Fizz\")\n",
    "        elif i % 5 == 0:\n",
    "            print(\"Buzz\")\n",
    "        else:\n",
    "            print(i)\n",
    "\n",
    "\n",
    "fizz_buzz(20)"
   ]
  },
  {
   "cell_type": "markdown",
   "id": "4f5436c2-bab9-4984-b3d9-8116e12848fd",
   "metadata": {
    "tags": []
   },
   "source": [
    "Take a close look at the output: Does it look like it meets all the program requirements specified above? The program currently prints `Fizz` and `Buzz`, but it never prints `FizzBuzz`!\n",
    "\n",
    "Although we could address this **bug** (unexpected or undesirable behavior) by reading the code carefully, let's take this opportunity to practice using the **debugger** in JupyterHub, a special feature that allows you to pause and inspect the state of all the variables in a running Python program.\n",
    "\n",
    "### Debugging\n",
    "\n",
    "To launch the debugger, in the top right corner of the interface, look for the **Enable Debugger** 🐞 (beetle or bug) icon. Clicking this icon causes two things to happen: the debugger panel will open on the right side of the screen to show the current state of the Python environment, and each code cell will widen slightly to make space for line numbers.\n",
    "\n",
    "To use the debugger, we have to add a **breakpoint**, a signal that is used to tell Python where to pause the program for inspection. Add a breakpoint to the `fizz_buzz` program above by moving your cursor over the line number 6 and clicking when a faint red dot appears. The shaded red dot that appears represents the breakpoint that we just added to line 6, which tells Python to pause the program just prior to running line 6. Use `Shift+Enter` to re-run the code cell above.\n",
    "\n",
    "This time, instead of printing all the output below, the program is paused before it has the chance to print the first `Buzz` on line 6. To the right, the current **variables** are shown at the top of the debugger panel: `i: 5` and `n: 20`. The **callstack** panel tells us that we're currently inspecting the `fizz_buzz` function and shows controls to ▶ continue running until the next breakpoint, ■ stop the current program, ⤼ step over to the next instruction, and two more options for stepping into a function call or out of the current function call. Try ⤼ stepping over a few times before using the ▶ continue button to run until the next breakpoint (or the end of the program).\n",
    "\n",
    "Now that you've learned a bit about the debugger, edit the `fizz_buzz` method so that it produces the desired output. The staff solution adds 2 lines of code and edits 1 existing line of code.\n",
    "\n",
    "## Testing\n",
    "\n",
    "While we can use print statements and the debugger to help us investigate bugs, these approaches require us to identify that there's a bug in the first place. When you write data programs for your own personal use, it is often sufficient to manually identify bugs and address them accordingly. But when you write data programs for others or as part of a team project, manually identifying bugs can lead to brittle code that is hard to maintain and validate.\n",
    "\n",
    "The larger your data programs grows, the harder it is to reason about all the parts at once. It gets even harder when some modules (parts of a program) are written by one person while other modules are written by another person---if a bug appears, how do we know whether it's this module or the other module that's causing the problem?\n",
    "\n",
    "**Testing** provides a way to automate bug detection and ensure that future changes do not break existing code. We'll start by learning about **doctests** (documentation tests), a Python-specific way to quickly get started with writing test cases without getting bogged down in details. A doctest is code defined at the top of a function and surrounded by triple quotes: `\"\"\"` or `'''`."
   ]
  },
  {
   "cell_type": "code",
   "execution_count": null,
   "id": "a9f97f81-4e9c-41c6-8e2a-6b4e71f4aded",
   "metadata": {},
   "outputs": [],
   "source": [
    "def fizz_buzz(n):\n",
    "    \"\"\"\n",
    "    Prints the numbers from 0 to n (exclusive) on each line, with special rules for printing \"Fizz\",\n",
    "    \"Buzz\", or \"FizzBuzz\" instead of certain numbers.\n",
    "\n",
    "    >>> fizz_buzz(5)\n",
    "    FizzBuzz\n",
    "    1\n",
    "    2\n",
    "    Fizz\n",
    "    4\n",
    "    >>> fizz_buzz(1)\n",
    "    FizzBuzz\n",
    "    \"\"\"\n",
    "    ..."
   ]
  },
  {
   "cell_type": "markdown",
   "id": "0972476d-666a-4295-a5ed-8d4e1c6372be",
   "metadata": {},
   "source": [
    "In the example above, notice that we generally use the first couple lines of text to document the behavior of the program and then the remainder of the lines to write the testing code. Each test command begins with a prompt, the triple greater-than symbols `>>>` followed by a Python instruction. Underneath that line is the expected output that would display when the program is evaluated.\n",
    "\n",
    "To run all the doctests in this **module** (this file), we can import the `doctest` module and call the `doctest.testmod()` function. Try running the code cell below to see the test failures. Then, replace the `...` with your completed `fizz_buzz` code from above and try re-running the cell to view the passed test cases."
   ]
  },
  {
   "cell_type": "code",
   "execution_count": null,
   "id": "960308ce-b8b9-4562-a2bb-0ff7baa3b463",
   "metadata": {
    "tags": []
   },
   "outputs": [],
   "source": [
    "import doctest\n",
    "doctest.testmod()"
   ]
  },
  {
   "cell_type": "markdown",
   "id": "9984ff34-ed12-4891-bb05-abb0bd092277",
   "metadata": {},
   "source": [
    "## Your turn\n",
    "\n",
    "`mean` is a function that is supposed to take two ints and return the average of the two numbers."
   ]
  },
  {
   "cell_type": "markdown",
   "id": "9462ab60-d335-4dd3-bcb5-4a9753e33aad",
   "metadata": {},
   "source": [
    "Write a doctest to help us identify and address the bug in the `mean` program provided below:\n",
    "\n",
    "1. Begin by writing a brief description of the program at the top of the doctest. (A short description is fine for `mean` since people will know what is intended by the function.)\n",
    "2. Write one or more doctest examples for `mean` where the test will **not** fail (even `mean` contains a bug). The expected output from the doctest should match `mean`'s output.\n",
    "3. Write one or more doctest examples for `mean` where the test **will** fail (exposing the bug). The expected output from the doctest should **not** match `mean`'s output."
   ]
  },
  {
   "cell_type": "code",
   "execution_count": null,
   "id": "48c546c7-ca79-4195-bce3-7ad5e1fe3dfd",
   "metadata": {},
   "outputs": [],
   "source": [
    "def mean(a, b):\n",
    "    \"\"\"\n",
    "    Write your doctest here! Make sure to match the formatting in the example above!\n",
    "    \"\"\"\n",
    "    return (a + b) // 2"
   ]
  },
  {
   "cell_type": "markdown",
   "id": "a346b978-d441-4f30-a636-b04f28187b98",
   "metadata": {},
   "source": [
    "If you've written your doctests correctly, you should see output similar to this:\n",
    "\n",
    "```\n",
    "1 items had failures:\n",
    "   1 of   2 in __main__.mean\n",
    "***Test Failed*** 1 failures.\n",
    "\n",
    "TestResults(failed=1, attempted=2)\n",
    "```"
   ]
  },
  {
   "cell_type": "code",
   "execution_count": null,
   "id": "970d2f43-7d20-4fa2-8c74-55e6229c75d8",
   "metadata": {
    "tags": []
   },
   "outputs": [],
   "source": [
    "# Run your doctests again by running this cell!\n",
    "\n",
    "doctest.testmod()"
   ]
  },
  {
   "cell_type": "markdown",
   "id": "14e5f169-11f8-4507-9ca9-ba4193cbd3c2",
   "metadata": {},
   "source": [
    "After writing your tests, fix the bug in the `mean` program with the help of your testing and debugging experience. Rerun your doctests to make sure all your tests pass!"
   ]
  },
  {
   "cell_type": "code",
   "execution_count": null,
   "id": "2f1ecada-5796-4cf9-8a0e-50e773378f29",
   "metadata": {},
   "outputs": [],
   "source": []
  }
 ],
 "metadata": {
  "kernelspec": {
   "display_name": "Python 3 (ipykernel)",
   "language": "python",
   "name": "python3"
  },
  "language_info": {
   "codemirror_mode": {
    "name": "ipython",
    "version": 3
   },
   "file_extension": ".py",
   "mimetype": "text/x-python",
   "name": "python",
   "nbconvert_exporter": "python",
   "pygments_lexer": "ipython3",
   "version": "3.10.10"
  }
 },
 "nbformat": 4,
 "nbformat_minor": 5
}
