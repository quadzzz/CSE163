{
 "cells": [
  {
   "cell_type": "markdown",
   "id": "78c01161-d36c-4fb2-a0ac-570a2f3f421e",
   "metadata": {},
   "source": [
    "# Geospatial Data\n",
    "\n",
    "In this lesson, we'll introduce methods to manipulate **geospatial data**: data about locations on Earth, such as the information in a map. By the end of this lesson, students will be able to:\n",
    "\n",
    "- Apply filters and plot geospatial data stored in shapefiles using `geopandas`.\n",
    "- Describe the difference between numeric coordinate data and geospatial data.\n",
    "- Draw multiple plots on the same figure by using `subplots` to specify axes.\n",
    "\n",
    "Geospatial data is often tabular just like CSV files. But they typically contain extra data representing the geometry of each area. `geopandas` is a library that extends `pandas` to automatically process the geometries."
   ]
  },
  {
   "cell_type": "code",
   "execution_count": null,
   "id": "ea24702d-52c3-4e86-81be-132701d1718d",
   "metadata": {},
   "outputs": [],
   "source": [
    "import geopandas as gpd\n",
    "import matplotlib.pyplot as plt"
   ]
  },
  {
   "cell_type": "markdown",
   "id": "3017d705-710f-43f4-91b5-775244e1f9d5",
   "metadata": {},
   "source": [
    "# `GeoDataFrame`\n",
    "\n",
    "Geospatial data is often communicated shapefile format with the `.shp` extension. We can create a `GeoDataFrame` from a shapefile by calling `gpd.read_file`. The following dataset of world countries has 169 columns: today, we'll work with only a handful of them."
   ]
  },
  {
   "cell_type": "code",
   "execution_count": null,
   "id": "2d0459bb-f0a8-4b1a-ace4-900fbb034675",
   "metadata": {},
   "outputs": [],
   "source": [
    "columns = [\"POP_EST\", \"GDP_MD\", \"CONTINENT\", \"SUBREGION\", \"geometry\"]\n",
    "countries = gpd.read_file(\"ne_110m_admin_0_countries.shp\").set_index(\"NAME\")[columns]\n",
    "countries"
   ]
  },
  {
   "cell_type": "markdown",
   "id": "ed06f4f9-7ed6-4bb4-be62-56ae104699bf",
   "metadata": {},
   "source": [
    "What makes a `GeoDataFrame` different from a regular `DataFrame` is the inclusion of a `geometry` column that is automatically plotted when we call `plot()`.\n",
    "\n",
    "![GeoDataFrame schema](https://geopandas.org/en/stable/_images/dataframe.svg)"
   ]
  },
  {
   "cell_type": "code",
   "execution_count": null,
   "id": "aae9d72b-62c1-4544-aa49-21478106195e",
   "metadata": {},
   "outputs": [],
   "source": [
    "countries.plot()"
   ]
  },
  {
   "cell_type": "markdown",
   "id": "ed645a3e-0cc2-48f9-ae25-bc03cc3e85dd",
   "metadata": {},
   "source": [
    "The result of calling `plot` is a matplotlib `Axes` object, which is different from the seaborn `FacetGrid` objects that we used earlier. There will be some syntactical differences, but we can similarly customize an `Axes` by calling methods like `set(...)` to define labels or `set_axis_off()` to remove the automatic latitude and longitude label markings.\n",
    "\n",
    "We can also pass keyword arguments to `plot` to create more interesting **choropleth maps**: maps where the color of each shape is based on a corresponding value. For example, to plot each country shaded according to population, specify `column=\"POP_EST\"`. To add a legend, specify `legend=True`."
   ]
  },
  {
   "cell_type": "code",
   "execution_count": null,
   "id": "185b0e56-b1e6-41bd-bb0b-4121189e5218",
   "metadata": {},
   "outputs": [],
   "source": [
    "countries.plot(column=\"POP_EST\")"
   ]
  },
  {
   "cell_type": "markdown",
   "id": "3ef58f45-0ecb-4957-89b7-43a512a74eb9",
   "metadata": {},
   "source": [
    "## Practice: South American country populations\n",
    "\n",
    "Write an expression to plot a choropleth map of the `POP_EST` column for every country in the `CONTINENT` \"South America\". Include a legend."
   ]
  },
  {
   "cell_type": "code",
   "execution_count": null,
   "id": "f8e54561-3010-4a4b-b1f5-e6131ec21098",
   "metadata": {},
   "outputs": [],
   "source": [
    "countries[countries[\"CONTINENT\"] == \"South America\"].plot(column=\"POP_EST\", legend=True)"
   ]
  },
  {
   "cell_type": "markdown",
   "id": "7b3345a7-8f18-4bd3-b565-f573ac116101",
   "metadata": {},
   "source": [
    "## Customizing `Axes` with `subplots`\n",
    "\n",
    "By default, each call to `plot` will return a new set of matplotlib `Axes` to represent the map. Since we're working with matplotlib rather than seaborn, our plots will typically require some work to arrange everything into a single figure.\n",
    "\n",
    "To add more space to a plot, call `plt.subplots` to create a new figure and a new set of `Axes` within that figure. To make a larger figure, specify `figsize=(width, height)` where `width` and `height` are numbers. We want a wider figure to make more space for the legend."
   ]
  },
  {
   "cell_type": "code",
   "execution_count": null,
   "id": "1437f2f6-cb82-467d-8ce4-d5757044fe31",
   "metadata": {},
   "outputs": [],
   "source": [
    "fig, ax = plt.subplots(figsize=(10, 5))\n",
    "countries.plot(ax=ax, column=\"POP_EST\", legend=True)"
   ]
  },
  {
   "cell_type": "markdown",
   "id": "655d93e9-9833-4660-837b-3afafc744af3",
   "metadata": {},
   "source": [
    "The first two keyword arguments for `plt.subplots` specify `nrows` and `ncols`. We can create a 2-tall by 3-wide figure and use tuple unpacking to handle the 6 resulting `Axes` objects. Let's plot the countries that belong to each of the following continents."
   ]
  },
  {
   "cell_type": "code",
   "execution_count": null,
   "id": "f75a1064-9c3c-4c3d-bb45-394db2474cfc",
   "metadata": {},
   "outputs": [],
   "source": [
    "continents = [\"Oceania\", \"Africa\", \"North America\", \"Asia\", \"South America\", \"Europe\"]\n",
    "fig, [[ax1, ax2, ax3], [ax4, ax5, ax6]] = plt.subplots(2, 3, figsize=(15, 10))"
   ]
  },
  {
   "cell_type": "markdown",
   "id": "1c106a48-d719-42a6-bd93-c19bfadb9ee7",
   "metadata": {},
   "source": [
    "## Practice: Trillionaire GDP choropleth\n",
    "\n",
    "Plot the `GDP_MD` (GDP in millions of US dollars) for every country with a `GDP_MD` value greater than 1000000 atop this background of the world map."
   ]
  },
  {
   "cell_type": "code",
   "execution_count": null,
   "id": "555a6585-e2df-4b2c-9539-8de652d12262",
   "metadata": {},
   "outputs": [],
   "source": [
    "countries.plot(color=\"#EEE\")"
   ]
  }
 ],
 "metadata": {
  "kernelspec": {
   "display_name": "Python 3 (ipykernel)",
   "language": "python",
   "name": "python3"
  },
  "language_info": {
   "codemirror_mode": {
    "name": "ipython",
    "version": 3
   },
   "file_extension": ".py",
   "mimetype": "text/x-python",
   "name": "python",
   "nbconvert_exporter": "python",
   "pygments_lexer": "ipython3",
   "version": "3.10.13"
  }
 },
 "nbformat": 4,
 "nbformat_minor": 5
}
