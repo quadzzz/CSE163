{
 "cells": [
  {
   "cell_type": "markdown",
   "id": "e76bdb17-38c1-4c03-9f40-3cf42c728bc3",
   "metadata": {},
   "source": [
    "# Education\n",
    "\n",
    "In this assessment, you'll apply `pandas` and `seaborn` to process and visualize education statistics.\n",
    "\n",
    "The [National Center for Education Statistics](https://nces.ed.gov/) is a U.S. federal government agency for collecting and analyzing data related to education. We have downloaded and cleaned one of their datasets: *[Percentage of persons 25 to 29 years old with selected levels of educational attainment, by race/ethnicity and sex: Selected years, 1920 through 2018](https://nces.ed.gov/programs/digest/d18/tables/dt18_104.20.asp)*."
   ]
  },
  {
   "cell_type": "code",
   "execution_count": null,
   "id": "d18247e6-b23c-4ffd-8421-ec89da23e65c",
   "metadata": {},
   "outputs": [],
   "source": [
    "# For testing purposes\n",
    "from matplotlib.patches import Rectangle\n",
    "from pandas.testing import assert_series_equal\n",
    "\n",
    "import pandas as pd\n",
    "import seaborn as sns\n",
    "\n",
    "sns.set_theme()"
   ]
  },
  {
   "cell_type": "markdown",
   "id": "674041b3-84af-4e98-a06f-e0f1839b0979",
   "metadata": {},
   "source": [
    "The `nces-ed-attainment.csv` file has the columns `Year`, `Sex`, `Min degree`, and percentages for each subdivision of 25 to 29 year-olds in the specified year, sex, and min degree. The data is represented as a `pandas` `DataFrame` with the following `MultiIndex` and columns.\n",
    "\n",
    "- `Year` is the first level of the `MultiIndex` with values ranging from 1920 to 2018.\n",
    "- `Sex` is the second level of the `MultiIndex` with values `F` for female, `M` for male, or `A` for all students.\n",
    "- `Min degree` is the third level of the `MultiIndex` with values referring to the minimum degree of educational attainment: `high school`, `associate's`, `bachelor's`, or `master's`.\n",
    "- `Total` is the overall percentage of the given `Sex` population in the `Year` with at least the `Min degree` of educational attainment.\n",
    "- `White`, `Black`, `Hispanic`, `Asian`, `Pacific Islander`, `American Indian/Alaska Native`, and `Two or more races` is the percentage of students of the specified racial category (and of the `Sex` in the `Year`) with at least the `Min degree` of educational attainment.\n",
    "\n",
    "Missing data is denoted `NaN` (not a number)."
   ]
  },
  {
   "cell_type": "code",
   "execution_count": null,
   "id": "6daf0ee3-1076-48d1-8ee3-219364c53966",
   "metadata": {},
   "outputs": [],
   "source": [
    "data = pd.read_csv(\n",
    "    \"nces-ed-attainment.csv\",\n",
    "    na_values=[\"---\"],\n",
    "    index_col=[\"Year\", \"Sex\", \"Min degree\"]\n",
    ").sort_index(level=\"Year\", sort_remaining=False)\n",
    "data"
   ]
  },
  {
   "cell_type": "markdown",
   "id": "40df0224-ef15-414d-a760-c720eef37c13",
   "metadata": {},
   "source": [
    "The cell above reads `nces-ed-attainment.csv` and replaces all occurrences of the `str` `---` with `pandas` `NaN` to help with later data processing steps. By defining a `MultiIndex` on the columns `Year`, `Sex`, and `Min degree`, we can answer questions like \"What is the overall percentage of all 25 to 29 year-olds in the year 2018 who have at least a high school degree?\" with the following `df.loc[index, columns]` expression."
   ]
  },
  {
   "cell_type": "code",
   "execution_count": null,
   "id": "e10ab3b1-7f74-4a2b-95f2-e1dce4486847",
   "metadata": {},
   "outputs": [],
   "source": [
    "data.loc[(2018, \"A\", \"high school\"), \"Total\"]"
   ]
  },
  {
   "cell_type": "markdown",
   "id": "9b95c0cf-d675-42af-b449-619e70ac0ac2",
   "metadata": {},
   "source": [
    "For this assessment, instead of writing test cases, we'll only be working with the educational attainment dataset described above. We've provided one test case for each function that includes the exact expected values for each function. Instead of extending the test cases, you'll be asked to write-up and reason about the quality of work demonstrated in each task."
   ]
  },
  {
   "cell_type": "markdown",
   "id": "81668b19-5921-4634-abc2-af0f0adc0317",
   "metadata": {},
   "source": [
    "## Task: Compare bachelor's in a given year\n",
    "\n",
    "Write a function `compare_bachelors_year` that takes the educational attainment `data` and a year and returns a two-row `Series` that indicates the percentages of M/F 25 to 29 year-olds who achieved at least a bachelor's degree in the given year."
   ]
  },
  {
   "cell_type": "code",
   "execution_count": null,
   "id": "5dc4dde8-5378-49a3-b576-fb93b97b9c31",
   "metadata": {},
   "outputs": [],
   "source": [
    "def compare_bachelors_year(data, year):\n",
    "    ...\n",
    "\n",
    "\n",
    "output = compare_bachelors_year(data, 1980)\n",
    "assert_series_equal(output, pd.Series([24., 21.], name=\"Total\",\n",
    "    index=pd.MultiIndex.from_product([[1980], [\"M\", \"F\"], [\"bachelor's\"]], names=data.index.names)\n",
    "))\n",
    "output"
   ]
  },
  {
   "cell_type": "markdown",
   "id": "482b7280-3ad3-4f8b-abd9-5a9ba2a40312",
   "metadata": {},
   "source": [
    "## Task: Mean min degree between given years for a given category\n",
    "\n",
    "Write a function `mean_min_degrees` that takes the educational attainment `data`, a `start_year` (default `None`), an `end_year` (default `None`), a string `category` (default `\"Total\"`) and returns a `Series` indicating, for each `Min degree` within the given years, the average percentage of educational attainment for people of the given `category` between the `start_year` and the `end_year` for the sex `A`. When `start_year` or `end_year` is `None`, consider all rows from either the beginning or end of the dataset (respectively)."
   ]
  },
  {
   "cell_type": "code",
   "execution_count": null,
   "id": "7646f4da-147e-44cd-8f87-a039be07b73c",
   "metadata": {},
   "outputs": [],
   "source": [
    "def mean_min_degrees(data, start_year=None, end_year=None, category=\"Total\"):\n",
    "    ...\n",
    "\n",
    "\n",
    "output = mean_min_degrees(data, start_year=2000, end_year=2009)\n",
    "assert_series_equal(output, pd.Series([38.366667, 29.55, 87.35, 6.466667], name=\"Total\",\n",
    "    index=pd.Index([\"associate's\", \"bachelor's\", \"high school\", \"master's\"], name=\"Min degree\")\n",
    "))\n",
    "output"
   ]
  },
  {
   "cell_type": "markdown",
   "id": "29ceffe0-dfa3-4e3f-b364-7a6b35781f76",
   "metadata": {},
   "source": [
    "## Writeup: Debugging `NaN` values\n",
    "\n",
    "While writing test cases, one of your coworkers noticed that some calls to `mean_min_degrees` produce `NaN` values and wanted your opinion on whether or not this is a bug with the function. **[Using the data source](https://nces.ed.gov/programs/digest/d18/tables/dt18_104.20.asp), explain why a `NaN` value appears in the result of the following code cell.**"
   ]
  },
  {
   "cell_type": "markdown",
   "id": "e85ff0a1-2e1c-4250-b2f4-5e618be85b0f",
   "metadata": {},
   "source": [
    "*Replace this text with your answer.*"
   ]
  },
  {
   "cell_type": "code",
   "execution_count": null,
   "id": "3d585d71-c3ef-4840-a3ee-b283c9bc0674",
   "metadata": {},
   "outputs": [],
   "source": [
    "mean_min_degrees(data, category=\"Pacific Islander\")"
   ]
  },
  {
   "cell_type": "markdown",
   "id": "df6506c2-ee97-4e81-b77b-006fbc540f51",
   "metadata": {},
   "source": [
    "## Task: Line plot for total percentage for the given min degree\n",
    "\n",
    "Write a function `line_plot_min_degree` that takes the educational attainment `data` and a min degree and returns the result of calling `sns.relplot` to produce a line plot. The resulting line plot should show only the `Total` percentage for sex `A` with the specified min degree over each year in the dataset. Label the x-axis \"Year\", the y-axis \"Percentage\", and title the plot \"Min degree for all bachelor's\" (if using bachelor's as the min degree)."
   ]
  },
  {
   "cell_type": "code",
   "execution_count": null,
   "id": "58d771b6-57a5-46c8-a760-d3c917219e76",
   "metadata": {},
   "outputs": [],
   "source": [
    "def line_plot_min_degree(data, min_degree):\n",
    "    ...\n",
    "\n",
    "\n",
    "ax = line_plot_min_degree(data, \"bachelor's\").facet_axis(0, 0)\n",
    "assert [tuple(xy) for xy in ax.get_lines()[0].get_xydata()] == [\n",
    "    (1940,  5.9), (1950,  7.7), (1960, 11.0), (1970, 16.4), (1980, 22.5), (1990, 23.2),\n",
    "    (1995, 24.7), (2000, 29.1), (2005, 28.8), (2006, 28.4), (2007, 29.6), (2008, 30.8),\n",
    "    (2009, 30.6), (2010, 31.7), (2011, 32.2), (2012, 33.5), (2013, 33.6), (2014, 34.0),\n",
    "    (2015, 35.6), (2016, 36.1), (2017, 35.7), (2018, 37.0),\n",
    "], \"data does not match expected\"\n",
    "assert all(line.get_xydata().size == 0 for line in ax.get_lines()[1:]), \"unexpected extra data\"\n",
    "assert ax.get_title() == \"Min degree for all bachelor's\", \"title does not match expected\"\n",
    "assert ax.get_xlabel() == \"Year\", \"x-label does not match expected\"\n",
    "assert ax.get_ylabel() == \"Percentage\", \"y-label does not match expected\""
   ]
  },
  {
   "cell_type": "markdown",
   "id": "a5ac2d8f-524a-47a8-85a2-a7ece39e6c0f",
   "metadata": {},
   "source": [
    "## Task: Bar plot for high school min degree percentage by sex in a given year\n",
    "\n",
    "Write a function `bar_plot_high_school_compare_sex` that takes the educational attainment `data` and a year and returns the result of calling `sns.catplot` to produce a bar plot. The resulting bar plot should compare the total percentages of `Sex` `A`, `M`, and `F` with `high school` `Min degree` in the given year. Label the x-axis \"Sex\", the y-axis \"Percentage\", and title the plot \"High school completion in 2009\" (if using 2009 as the year)."
   ]
  },
  {
   "cell_type": "code",
   "execution_count": null,
   "id": "030e2c2a-3233-4cf7-862f-043ca428c941",
   "metadata": {},
   "outputs": [],
   "source": [
    "def bar_plot_high_school_compare_sex(data, year):\n",
    "    ...\n",
    "\n",
    "\n",
    "ax = bar_plot_high_school_compare_sex(data, 2009).facet_axis(0, 0)\n",
    "assert sorted(rectangle.get_height() for rectangle in ax.findobj(Rectangle)[:3]) == [\n",
    "    87.5, 88.6, 89.8,\n",
    "], \"data does not match expected\"\n",
    "assert len(ax.findobj(Rectangle)) == 4, \"too many rectangles drawn\" # ignore background Rectangle\n",
    "assert ax.get_title() == \"High school completion in 2009\", \"title does not match expected\"\n",
    "assert ax.get_xlabel() == \"Sex\", \"x-label does not match expected\"\n",
    "assert ax.get_ylabel() == \"Percentage\", \"y-label does not match expected\""
   ]
  },
  {
   "cell_type": "markdown",
   "id": "61a98cd0-fc29-4477-b8dd-38a343e9bbeb",
   "metadata": {},
   "source": [
    "## Writeup: Bar plot versus scatter plot\n",
    "\n",
    "1. Read Kieran Hiely's comparison of bar plot versus scatter plot from *Data Visualization* section 1.6: [Problems of honesty and good judgment](https://socviz.co/lookatdata.html#problems-of-honesty-and-good-judgment).\n",
    "1. Compare your bar plot for high school completion in 2009 to the scatter plot below.\n",
    "1. **Which plot do you prefer and why?**"
   ]
  },
  {
   "cell_type": "markdown",
   "id": "94b5d898-82f6-4300-8c8b-499afb7c923d",
   "metadata": {},
   "source": [
    "*Replace this text with your answer.*"
   ]
  },
  {
   "cell_type": "markdown",
   "id": "a1b97be7-1a5f-4fe6-81ee-bf8acc67a05c",
   "metadata": {},
   "source": [
    "<img alt=\"Scatter plot for High school completion in 2009 (for comparison)\" src=\"data:image/webp;base64,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\" />"
   ]
  },
  {
   "cell_type": "markdown",
   "id": "868c5a1e-2a4c-4757-89c1-47f097156f25",
   "metadata": {},
   "source": [
    "## Task: Plot for min degree percentage over time for a given racial category\n",
    "\n",
    "Write a function `plot_race_compare_min_degree` that takes the educational attainment `data` and a string category and returns the result of calling the `sns` plotting function that best visualizes this data. The resulting plot should compare each of the 4 `Min degree` options, indicating the percentage of educational attainment for the given racial category and `Min degree` over the entire time range of available data. Due to missing data, not all min degree options will stretch the entire width of the plot. Label the x-axis \"Year\", the y-axis \"Percentage\", and title the plot \"Min degree for Hispanic\" (if using Hispanic as the racial category)."
   ]
  },
  {
   "cell_type": "code",
   "execution_count": null,
   "id": "c91ef64e-5d23-41c7-8a06-651765552bc1",
   "metadata": {},
   "outputs": [],
   "source": [
    "def plot_race_compare_min_degree(data, category):\n",
    "    ...\n",
    "\n",
    "\n",
    "ax = plot_race_compare_min_degree(data, \"Hispanic\").facet_axis(0, 0)\n",
    "assert sorted([tuple(xy) for xy in line.get_xydata()] for line in ax.get_lines()[:4]) == [\n",
    "    [(1980,  7.7), (1990,  8.1), (1995,  8.9), (2000,  9.7), (2005, 11.2), (2006,  9.5),\n",
    "     (2007, 11.6), (2008, 12.4), (2009, 12.2), (2010, 13.5), (2011, 12.8), (2012, 14.8),\n",
    "     (2013, 15.7), (2014, 15.1), (2015, 16.4), (2016, 18.7), (2017, 18.5), (2018, 20.7)],\n",
    "    [(1980, 58.0), (1990, 58.2), (1995, 57.1), (2000, 62.8), (2005, 63.3), (2006, 63.2),\n",
    "     (2007, 65.0), (2008, 68.3), (2009, 68.9), (2010, 69.4), (2011, 71.5), (2012, 75.0),\n",
    "     (2013, 75.8), (2014, 74.7), (2015, 77.1), (2016, 80.6), (2017, 82.7), (2018, 85.2)],\n",
    "    [                            (1995,  1.6), (2000,  2.1), (2005,  2.1), (2006,  1.5),\n",
    "     (2007,  1.5), (2008,  2.0), (2009,  1.9), (2010,  2.5), (2011,  2.7), (2012,  2.7),\n",
    "     (2013,  3.0), (2014,  2.9), (2015,  3.2), (2016,  4.1), (2017,  3.9), (2018,  3.4)],\n",
    "    [                            (1995, 13.0), (2000, 15.4), (2005, 17.3), (2006, 16.1),\n",
    "     (2007, 18.1), (2008, 18.7), (2009, 18.4), (2010, 20.5), (2011, 20.6), (2012, 22.7),\n",
    "     (2013, 23.1), (2014, 23.4), (2015, 25.7), (2016, 27.0), (2017, 27.7), (2018, 30.5)],\n",
    "], \"data does not match expected\"\n",
    "assert all(line.get_xydata().size == 0 for line in ax.get_lines()[4:]), \"unexpected extra data\"\n",
    "assert ax.get_title() == \"Min degree for Hispanic\", \"title does not match expected\"\n",
    "assert ax.get_xlabel() == \"Year\", \"x-label does not match expected\"\n",
    "assert ax.get_ylabel() == \"Percentage\", \"y-label does not match expected\""
   ]
  },
  {
   "attachments": {},
   "cell_type": "markdown",
   "id": "70fff176-f0f9-4df5-ae6a-a6eaaec1478e",
   "metadata": {},
   "source": [
    "## Task: Line plot comparing educational attainment by race over time\n",
    "\n",
    "Write a function `line_plot_compare_race` that reproduces [the following line plot](https://periscopic.com/#!/impacts/americas-educational-attainment) using `seaborn` to compare the given `Min degree` attainment across all columns except for `Total` and `Two or more races` for sex `A` and years 2009 onward. Our dataset separates \"Asian\" and \"Pacific Islander\", which you can keep separate in your plot for simplicity even though they are combined in the interactive report. Label the x-axis \"Year\", the y-axis \"Percentage\", and title the plot \"Attainment by race for all associate's\" (if using associate's as the min degree).\n",
    "\n",
    "<video style=\"max-width: 100%; max-height: 480px\" loop=\"true\" autoplay=\"true\" muted=\"true\" src=\"https://content.periscopic.com/uploads/46c2238b38244e86be008eb9898533bf.mp4\"></video>\n",
    "\n",
    "This task involves reading documentation and learning additional methods to solve the problem because `seaborn` plotting functions typically only accept data in a single column, whereas our dataset spreads educational attainment per race across several columns. For an additional challenge, don't read the recommended approach below.\n",
    "\n",
    "<details>\n",
    "<summary>Recommended approach</summary>\n",
    "\n",
    "<ol>\n",
    "<li>Select all rows where <code>Year</code> is 2009 and onwards and <code>Min degree</code> matches the given string.</li>\n",
    "<li>Read the documentation for <code><a href=\"https://pandas.pydata.org/docs/reference/api/pandas.DataFrame.melt.html\">DataFrame.melt</a></code> to learn how to combine all the racial categories into a single column. Be sure to include the keyword argument <code>ignore_index=False</code> to keep the current <code>MultiIndex</code>. The <a href=\"https://pandas.pydata.org/docs/user_guide/reshaping.html#melt-and-wide-to-long\">corresponding section in the user guide</a> may also be helpful.</li>\n",
    "<li>Read the documentation for <code><a href=\"https://pandas.pydata.org/docs/reference/api/pandas.DataFrame.set_index.html\">DataFrame.set_index</a></code> to learn how to append the combined race categories column as another level of the <code>MultiIndex</code>. Be sure to include the keyword argument <code>append=True</code>.</li>\n",
    "<li>Pass the melted, 4-level-indexed dataframe to the appropriate figure-level plotting function to produce your plot.</li>\n",
    "</ol>\n",
    "</details>"
   ]
  },
  {
   "cell_type": "code",
   "execution_count": null,
   "id": "e7ba52b5-8509-4e9d-bd69-6d0cee574fb0",
   "metadata": {},
   "outputs": [],
   "source": [
    "def line_plot_compare_race(data, min_degree):\n",
    "    ...\n",
    "\n",
    "\n",
    "ax = line_plot_compare_race(data, \"associate's\").facet_axis(0, 0)\n",
    "assert sorted([tuple(xy) for xy in line.get_xydata()] for line in ax.get_lines()[:6]) == [\n",
    "    [(2009.0, 18.4), (2010.0, 20.5), (2011.0, 20.6), (2012.0, 22.7), (2013.0, 23.1),\n",
    "     (2014.0, 23.4), (2015.0, 25.7), (2016.0, 27.0), (2017.0, 27.7), (2018.0, 30.5)],\n",
    "    [(2009.0, 20.8), (2010.0, 28.9), (2011.0, 25.0), (2012.0, 23.6), (2013.0, 26.3),\n",
    "     (2014.0, 18.2), (2015.0, 22.3), (2016.0, 16.5), (2017.0, 27.1), (2018.0, 24.4)],\n",
    "    [(2009.0, 20.9), (2010.0, 22.0), (2011.0, 39.7), (2012.0, 32.4), (2013.0, 37.3),\n",
    "                     (2015.0, 24.9), (2016.0, 28.6), (2017.0, 35.8), (2018.0, 22.6)],\n",
    "    [(2009.0, 27.8), (2010.0, 29.4), (2011.0, 29.8), (2012.0, 31.6), (2013.0, 29.5),\n",
    "     (2014.0, 32.0), (2015.0, 31.1), (2016.0, 31.7), (2017.0, 32.7), (2018.0, 32.6)],\n",
    "    [(2009.0, 47.1), (2010.0, 48.9), (2011.0, 50.1), (2012.0, 49.9), (2013.0, 51.0),\n",
    "     (2014.0, 51.9), (2015.0, 54.0), (2016.0, 54.3), (2017.0, 53.5), (2018.0, 53.6)],\n",
    "    [(2009.0, 66.7), (2010.0, 63.4), (2011.0, 64.6), (2012.0, 68.3), (2013.0, 67.2),\n",
    "     (2014.0, 70.3), (2015.0, 71.7), (2016.0, 71.5), (2017.0, 69.9), (2018.0, 75.5)],\n",
    "], \"data does not match expected\"\n",
    "assert all(line.get_xydata().size == 0 for line in ax.get_lines()[6:]), \"unexpected extra data\"\n",
    "assert ax.get_title() == \"Attainment by race for all associate's\", \"title does not match expected\"\n",
    "assert ax.get_xlabel() == \"Year\", \"x-label does not match expected\"\n",
    "assert ax.get_ylabel() == \"Percentage\", \"y-label does not match expected\""
   ]
  },
  {
   "cell_type": "markdown",
   "id": "d03aa0d2-7895-4c2e-8a9b-351078d06bf8",
   "metadata": {},
   "source": [
    "## Writeup: Visualizations and persuasive rhetoric\n",
    "\n",
    "Visualizations are persuasive even when we design them using communication practices that aim to create an \"unemotional\", \"distanced\", or \"neutral\" analysis. For instance, the choice of bar plot versus scatter plot brings with it different baggage: readers make different assumptions about the data based on the type of plot and its visual presentation. And, as we experienced in the final programming task, the data itself can be structured in such a way as to make some data visualizations easier to produce than others, affording (making more likely) certain data analyses over other data analyses.\n",
    "\n",
    "Consider this alternative title for your final programming task. **[Using the Progress toward Racial Equity interactive report](https://www.luminafoundation.org/stronger-nation/report/#/progress/racial_equity&equity-time-age=25_34&equity-geo-age=25_34), explain how this alternative title might suggest a misleading, incomplete, or otherwise harmful conclusion about racial equity in educational attainment.**"
   ]
  },
  {
   "cell_type": "markdown",
   "id": "e6a24074-3709-4cb4-8e0b-7a8a22504992",
   "metadata": {},
   "source": [
    "*Replace this text with your answer.*"
   ]
  },
  {
   "cell_type": "code",
   "execution_count": null,
   "id": "8d392db6-fea5-4d90-b60d-d6bb0ae52cb6",
   "metadata": {},
   "outputs": [],
   "source": [
    "line_plot_compare_race(data, \"associate's\").set(title=\"Asian educational attainment reaches new heights\")"
   ]
  }
 ],
 "metadata": {
  "kernelspec": {
   "display_name": "Python 3 (ipykernel)",
   "language": "python",
   "name": "python3"
  },
  "language_info": {
   "codemirror_mode": {
    "name": "ipython",
    "version": 3
   },
   "file_extension": ".py",
   "mimetype": "text/x-python",
   "name": "python",
   "nbconvert_exporter": "python",
   "pygments_lexer": "ipython3",
   "version": "3.10.13"
  }
 },
 "nbformat": 4,
 "nbformat_minor": 5
}
