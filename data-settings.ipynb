{
 "cells": [
  {
   "cell_type": "markdown",
   "id": "cdb633aa-4bfd-4b16-8560-b306b2037579",
   "metadata": {},
   "source": [
    "# Data Settings\n",
    "\n",
    "In this lesson, we'll consider what it means for a dataset to have a **data setting**: the technical and the human processes that affect what information is captured in the data collection process and how the data are then structured. In our upcoming assessment, we'll examine an administrative dataset on educational attainment for people age 25 to 29 in the United States. The assessment serves not only as opportunity to demonstrate to reflect on the challenges of data visualization, but also the challenges inherent in working with real-world data.\n",
    "\n",
    "By the end of this lesson, students will be able to:\n",
    "\n",
    "- Create visualizations involving time series data.\n",
    "- Compare and contrast statistical, coded, and structural bias.\n",
    "- Identify questions about the data setting for a given dataset."
   ]
  },
  {
   "cell_type": "code",
   "execution_count": null,
   "id": "1e30ef78-8f65-4ace-81fb-4ea539232254",
   "metadata": {},
   "outputs": [],
   "source": [
    "import pandas as pd\n",
    "import seaborn as sns\n",
    "\n",
    "sns.set_theme()"
   ]
  },
  {
   "cell_type": "markdown",
   "id": "62c9e5c9-ecc3-4888-905d-0c4caca15973",
   "metadata": {},
   "source": [
    "## Time series data\n",
    "\n",
    "Seattleites often look forward to summer months for fantastic weather and outdoor activities. However, recent summers have been marred by intense climate catastrophies and wildfires in the western United States. In this activity, we'll investigate air quality data captured by the Puget Sound Clean Air Agency's [Seattle Duwamish Valley](https://pscleanair.gov/385/Duwamish-Valley) sensor between April 2017 and April 2022.\n",
    "\n",
    "This data is a **time series**, a time-indexed dataset often with a consistent interval between observations. For example, the air quality sensor data is recorded at hourly intervals."
   ]
  },
  {
   "cell_type": "code",
   "execution_count": null,
   "id": "46ea8cd9-f49e-40d2-ad5f-303424c1f204",
   "metadata": {},
   "outputs": [],
   "source": [
    "seattle_air = pd.read_csv(\"seattle_air.csv\", index_col=\"Time\", parse_dates=True)\n",
    "seattle_air"
   ]
  },
  {
   "cell_type": "markdown",
   "id": "a46525b6-0dbe-4266-a516-413f932c3fdd",
   "metadata": {},
   "source": [
    "Time series data use a special type of index called a `DatetimeIndex` that stores datetime values. Each **datetime value** in the index below consists of a `YEAR-MONTH-DAY` and `HOUR:MINUTE:SECOND` displayed in ISO format."
   ]
  },
  {
   "cell_type": "code",
   "execution_count": null,
   "id": "77ee3560-e2a4-4813-b0d2-16dad2271e58",
   "metadata": {},
   "outputs": [],
   "source": [
    "seattle_air.index"
   ]
  },
  {
   "cell_type": "markdown",
   "id": "64f4dcc1-87cf-4107-a949-204d9f378ea6",
   "metadata": {},
   "source": [
    "Pandas provides convenient string-based syntax for slicing a datetime index."
   ]
  },
  {
   "cell_type": "code",
   "execution_count": null,
   "id": "f30874f9-cd8b-434f-a119-acce02637c90",
   "metadata": {},
   "outputs": [],
   "source": [
    "seattle_air.loc[\"2022\", :]"
   ]
  },
  {
   "cell_type": "markdown",
   "id": "35fce04d-eef3-4537-8b2b-0ae4b2ae97f9",
   "metadata": {},
   "source": [
    "The dataset includes some `NaN` missing values. Let's replace missing values using linear interpolation, which examines neighboring values to replace `NaN` values with best estimates."
   ]
  },
  {
   "cell_type": "code",
   "execution_count": null,
   "id": "ff310cf8-a9d4-4cca-b9ae-6acd02fed234",
   "metadata": {},
   "outputs": [],
   "source": [
    "missing_values = seattle_air[\"PM2.5\"].isna()\n",
    "seattle_air = seattle_air.interpolate()\n",
    "# Show only the previously-missing values\n",
    "seattle_air[missing_values]"
   ]
  },
  {
   "cell_type": "markdown",
   "id": "6f5efa68-9e26-40ed-839b-c5395002ed81",
   "metadata": {},
   "source": [
    "## Visualizations with `DatetimeIndex`\n",
    "\n",
    "Let's write some code to compare each year's data. `groupby` not only accepts a column name or a list of column names, but also series that indicate groups. We can group by the `index.year` to form groups for each year in the time series. Here, `groupby` uses the given series directly rather than selecting a column from the original dataframe.\n",
    "\n",
    "`pandas` has a built-in `plot()` function that uses `matplotlib`: it's not quite as clever as `seaborn` in preparing data visualizations for communication purposes, but it is handy for quickly visualizing your dataframes without having to `import seaborn`. Since these are separate plots, they do not share common axes."
   ]
  },
  {
   "cell_type": "code",
   "execution_count": null,
   "id": "da42038b-5b5c-469a-add1-f14a00104e3e",
   "metadata": {},
   "outputs": [],
   "source": [
    "seattle_air.groupby(seattle_air.index.year).plot()"
   ]
  },
  {
   "cell_type": "markdown",
   "id": "304594fc-570b-484e-acd2-8c1ee244670f",
   "metadata": {},
   "source": [
    "Ideally, we would like to see all 6 line plots together on the same axes. However, notice that the plots all maintain their original datetime information: each plot is labeled a different year because the datetime information records year data. Without a common or shared index, it will be difficult to combine the 6 plots into one.\n",
    "\n",
    "**To define a common or shared index, we need to define a new index that is common between all 6 years of data.** This is where `DatetimeIndex` is more of a problem than a solution: each datetime value must have all three fields year, month, and day. We are simply not allowed to remove the year from a `DatetimeIndex`!\n",
    "\n",
    "`DatetimeIndex` provides helpful accessors [for defining a common index](https://stackoverflow.com/a/57208963), one of which is returns the `day_of_year` for each value in the sequence."
   ]
  },
  {
   "cell_type": "code",
   "execution_count": null,
   "id": "b8d2cdd8-065f-433c-9f05-68aa160f684a",
   "metadata": {},
   "outputs": [],
   "source": [
    "seattle_air.index.day_of_year"
   ]
  },
  {
   "cell_type": "markdown",
   "id": "82513305-5b7f-4974-a55a-517938c1c4ca",
   "metadata": {},
   "source": [
    "By combining these accessors, we can use seaborn to generate a line plot that combines each year of air quality data. Just like how `groupby` can accept a series to determine groups, seaborn plotting functions also accept a series as input. The values in the series are then directly used instead of extracting the corresponding column from the `data` parameter as in `data[x]` or `data[hue]`.\n",
    "\n",
    "What else can we improve about this line plot?"
   ]
  },
  {
   "cell_type": "code",
   "execution_count": null,
   "id": "fe113383-1a5d-4f27-bd25-aab0cf59cc0a",
   "metadata": {},
   "outputs": [],
   "source": [
    "grid = sns.relplot(\n",
    "    seattle_air,\n",
    "    x=seattle_air.index.day_of_year,\n",
    "    y=\"PM2.5\",\n",
    "    hue=seattle_air.index.year,\n",
    "    kind=\"line\",\n",
    "    errorbar=None, # Much faster when we don't generate error bars\n",
    ")\n",
    "# When column name is not specified, the index name \"Time\" is used\n",
    "grid.set(xlabel=\"Day of Year\")\n",
    "grid.legend.set(title=\"Year\")"
   ]
  },
  {
   "cell_type": "markdown",
   "id": "0b5be357-f154-4e70-8c9a-b7d315b82fa1",
   "metadata": {},
   "source": [
    "## What's in a `NaN`?\n",
    "\n",
    "Earlier, we replaced the `NaN` (not a number) missing air quality data using interpolation to guess its value based on surrounding data points. But why were these values `NaN` in the first place?\n",
    "\n",
    "Last year, I asked this question to a data analyst at the [Puget Sound Clean Air Agency](https://pscleanair.gov/) via their public contact phone number. They provided several potential reasons why a row might be `NaN`.\n",
    "\n",
    "- Regular, biweekly maintenance\n",
    "- Break-in and vandalism issues\n",
    "- Internet connectivity issues\n",
    "- Regulatory calibration requirements\n",
    "- Equipment relocation, changes, or upgrades\n",
    "\n",
    "Furthermore, they pointed out that the air quality sensors are calibrated for lower concentrations, so sensors may underreport values during times when there are higher concentrations of particulate matter.\n",
    "\n",
    "These stories and context that situate our data inform its **data setting**: the technical and the human processes that affect what information is captured in the data collection process and how the data are then structured. Let's listen to Yanni Loukissas explain more."
   ]
  },
  {
   "cell_type": "code",
   "execution_count": null,
   "id": "b6c3aa75-eb43-4db5-8bb4-7aed8ff74614",
   "metadata": {},
   "outputs": [],
   "source": [
    "%%html\n",
    "<iframe width=\"640\" height=\"360\" src=\"https://www.youtube-nocookie.com/embed/bUws5GCF3GI?start=477&end=624\" title=\"YouTube video player\" frameborder=\"0\" allow=\"accelerometer; autoplay; clipboard-write; encrypted-media; gyroscope; picture-in-picture; web-share\" allowfullscreen></iframe>"
   ]
  },
  {
   "cell_type": "markdown",
   "id": "5540db50-bb03-4165-99c7-cbe4dad446ea",
   "metadata": {},
   "source": [
    "Sometimes, the creators of the dataset might share some of the data settings with you in the form of a datasheet. In [*Datasheets for Datasets*](https://arxiv.org/abs/1803.09010), Timnit Gebru et al. (2018) propose many questions that should be answered when describing a dataset that they categorized into questions about:\n",
    "\n",
    "- **Motivation**: why the dataset was created\n",
    "- **Composition**: what the data represents and how values relate to each other\n",
    "- **Collection process**: how the data was collected\n",
    "- **Preprocessing/cleaning/labeling**: how the data was converted into its current form\n",
    "- **Uses**: what the data should and should not be used for\n",
    "- **Distribution**: how the data will be shared with other parties\n",
    "- **Maintenance**: how the data will be maintained, hosted, and updated over time\n",
    "\n",
    "Even when datasets are documented, there may yet be stories behind each and every value in the dataset that might only be surfaced through discussion with the dataset creators or subject matter experts. Data is local, even when it doesn't seem like it, because they are shaped by the practices of the people who created it."
   ]
  },
  {
   "cell_type": "code",
   "execution_count": null,
   "id": "577544e2-e57e-4eae-9e36-f1031b3f2487",
   "metadata": {},
   "outputs": [],
   "source": [
    "%%html\n",
    "<iframe width=\"640\" height=\"360\" src=\"https://www.youtube-nocookie.com/embed/bUws5GCF3GI?start=835&end=1005\" title=\"YouTube video player\" frameborder=\"0\" allow=\"accelerometer; autoplay; clipboard-write; encrypted-media; gyroscope; picture-in-picture; web-share\" allowfullscreen></iframe>"
   ]
  },
  {
   "cell_type": "markdown",
   "id": "af67143a-b076-4487-b8c6-f144007602cb",
   "metadata": {},
   "source": [
    "## Principle: Consider context\n",
    "\n",
    "How do we put data locality and data settings into practice? Chapter 6 of *Data Feminism* by Catherine D'Ignazio and Lauren Klein titled \"[The Numbers Don't Speak for Themselves](https://data-feminism.mitpress.mit.edu/pub/czq9dfs5/release/3?readingCollection=0cd867ef)\" provide some examples of how to **consider context** in our data work.\n",
    "\n",
    "> Instead of taking data at face value and looking toward future insights, data scientists can first interrogate the context, limitations, and validity of the data under use. In other words: consider the cooking process that produces \"raw\" data. As one example, computational social scientists Derek Ruths and Jürgen Pfeffer write about the limitations of using social media data for behavioral insights: Instagram data skews young because Instagram does; Reddit data contains far more comments by men than by women because Reddit's overall membership is majority men. They further show how research data acquired from those sources are shaped by sampling because companies like Reddit and Instagram employ proprietary methods to deliver their data to researchers, and those methods are never disclosed. Related research by Devin Gaffney and J. Nathan Matias took on a popular corpus that claimed to contain \"every publicly available Reddit comment.\" Their work showed the that the supposedly complete corpus is missing at least thirty-six million comments and twenty-eight million submissions.\n",
    "\n",
    "Is the solution to \"remove the bias\" from a dataset? What do you think Yanni Loukissas would say in response to this question?"
   ]
  },
  {
   "cell_type": "code",
   "execution_count": null,
   "id": "1559f41a-bd5a-4e33-b950-59083a1907d5",
   "metadata": {},
   "outputs": [],
   "source": [
    "%%html\n",
    "<iframe width=\"640\" height=\"360\" src=\"https://www.youtube-nocookie.com/embed/bUws5GCF3GI?start=1481&end=1800\" title=\"YouTube video player\" frameborder=\"0\" allow=\"accelerometer; autoplay; clipboard-write; encrypted-media; gyroscope; picture-in-picture; web-share\" allowfullscreen></iframe>"
   ]
  },
  {
   "cell_type": "markdown",
   "id": "b518edd0-050e-437d-ab20-2f35a9bfcbb0",
   "metadata": {},
   "source": [
    "As data programmers, how does this intersect with what we've just learned about data visualization? There's a question of how we communicate the data setting to our audiences.\n",
    "\n",
    "![Bar plot titled Mental Health in Jail and subtitled Rate of mental health diagnosis of inmates](https://resize-v3.pubpub.org/eyJidWNrZXQiOiJhc3NldHMucHVicHViLm9yZyIsImtleSI6ImJobHMzcm11LzcxNTgzODg3Njg1OTIyLmpwZyIsImVkaXRzIjp7InJlc2l6ZSI6eyJ3aWR0aCI6ODAwLCJmaXQiOiJpbnNpZGUiLCJ3aXRob3V0RW5sYXJnZW1lbnQiOnRydWV9fX0=) | ![Same bar plot titled Racism in Jail and subtitled People of color less likely to get mental health diagnosis](https://resize-v3.pubpub.org/eyJidWNrZXQiOiJhc3NldHMucHVicHViLm9yZyIsImtleSI6ImNtZHZuN2tjLzYxNTg0MzgwNDI5MjI3LmpwZyIsImVkaXRzIjp7InJlc2l6ZSI6eyJ3aWR0aCI6ODAwLCJmaXQiOiJpbnNpZGUiLCJ3aXRob3V0RW5sYXJnZW1lbnQiOnRydWV9fX0=)\n",
    "-|-\n",
    "\n",
    "To explain the difference between the two visualizations, which only differ in title and subtitle, the Catherine and Lauren write:\n",
    "\n",
    "> Which one of these graphics would you create? Which one should you create? The first—Mental Health in Jail—represents the typical way that the results of a data analysis are communicated. The title *appears* to be neutral and free of bias. This is a graphic about rates of mental illness diagnosis of incarcerated people broken down by race and ethnicity. The people are referred to as *inmates*, the language that the study used. The title does not mention race or ethnicity, or racism or health inequities, nor does the title point to what the data mean. But this is where additional questions about context come in. Are you representing only the four numbers that we see in the chart? Or are you representing the context from which they emerged?\n",
    ">\n",
    "> The study that produced these numbers contains convincing evidence that we should distrust diagnosis numbers due to racial and ethnic discrimination. The first chart does not simply fail to communicate that but also actively undermines that main finding of the research. Moreover, the language used to refer to people in jail as *inmates* is dehumanizing, particularly in the context of the epidemic of mass incarceration in the United States. So, consider the second chart: Racism in Jail: People of Color Less Likely to Get Mental Health Diagnosis. This title offers a frame for how to interpret the numbers along the lines of the study from which they emerged. The research study was about racial disparities, so the title and content of this chart are about racial disparities. The people behind the numbers are *people*, not *inmates*. In addition, and crucially, the second chart names the forces of oppression that are at work: racism in prison.\n",
    "\n",
    "Data work provides a rhetorical medium for data programmers to make and communicate meaning to readers that require careful attention to every part of our work: not only the code, but also the data because the data doesn't speak for itself."
   ]
  }
 ],
 "metadata": {
  "kernelspec": {
   "display_name": "Python 3 (ipykernel)",
   "language": "python",
   "name": "python3"
  },
  "language_info": {
   "codemirror_mode": {
    "name": "ipython",
    "version": 3
   },
   "file_extension": ".py",
   "mimetype": "text/x-python",
   "name": "python",
   "nbconvert_exporter": "python",
   "pygments_lexer": "ipython3",
   "version": "3.10.13"
  }
 },
 "nbformat": 4,
 "nbformat_minor": 5
}
