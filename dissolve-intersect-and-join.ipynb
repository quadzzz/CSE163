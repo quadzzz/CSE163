{
 "cells": [
  {
   "cell_type": "markdown",
   "id": "ca77f12c-6a3f-4abb-8d6b-c27cb3f2464b",
   "metadata": {},
   "source": [
    "# Dissolve, Intersect, and Join\n",
    "\n",
    "In this lesson, we'll learn about geospatial operations such as dissolves, intersections, and spatial joins. We'll also relate tabular data to geospatial data and learn new ways of combining different types of datasets. By the end of this lesson, students will be able to:\n",
    "\n",
    "- Apply the `dissolve` method to aggregate `GeoDataFrame` columns.\n",
    "- Apply `merge` to join tabular data and `sjoin` to join geospatial data.\n",
    "- Apply the `clip` methods to perform bounding box queries."
   ]
  },
  {
   "cell_type": "code",
   "execution_count": null,
   "id": "e891e44e-b17e-4f2a-8ee0-cb08ea3a26e6",
   "metadata": {},
   "outputs": [],
   "source": [
    "import geopandas as gpd\n",
    "import matplotlib.pyplot as plt\n",
    "import pandas as pd"
   ]
  },
  {
   "cell_type": "markdown",
   "id": "43409ad6-9066-4dc3-97fe-360245620a3b",
   "metadata": {},
   "source": [
    "We'll continue using the same world countries dataset today."
   ]
  },
  {
   "cell_type": "code",
   "execution_count": null,
   "id": "57d4cc22-a5d7-435c-b656-b5c44721c46b",
   "metadata": {},
   "outputs": [],
   "source": [
    "columns = [\"POP_EST\", \"GDP_MD\", \"CONTINENT\", \"SUBREGION\", \"geometry\"]\n",
    "countries = gpd.read_file(\"ne_110m_admin_0_countries.shp\").set_index(\"NAME\")[columns]\n",
    "countries"
   ]
  },
  {
   "cell_type": "markdown",
   "id": "82c1c5f0-481b-4afb-ba0c-16fe9d740b2d",
   "metadata": {},
   "source": [
    "## Dissolve: `groupby` for geospatial data\n",
    "\n",
    "How can we plot the total population for each continent (rather than per country)? In `pandas`, to perform a computation *for each* group, we would typically use a `groupby`!"
   ]
  },
  {
   "cell_type": "code",
   "execution_count": null,
   "id": "5539b606-6b0e-4151-8094-cc7de796ab18",
   "metadata": {},
   "outputs": [],
   "source": [
    "populations = countries.groupby(\"CONTINENT\")[\"POP_EST\"].sum()\n",
    "populations.plot()"
   ]
  },
  {
   "cell_type": "markdown",
   "id": "544acc36-3dd9-41ae-8e83-15fb275d3bc8",
   "metadata": {},
   "source": [
    "Clearly, this is not a map. For geospatial data, we need to use a `GeoDataFrame` method called `dissolve`. Dissolve not only takes care of aggregation, but it also performs a geospatial **union** to combine all the countries within a single continent into a larger geometric shape."
   ]
  },
  {
   "cell_type": "code",
   "execution_count": null,
   "id": "d94fa6dc-450e-45ab-9dc7-03a5d7ab2cd1",
   "metadata": {},
   "outputs": [],
   "source": []
  },
  {
   "cell_type": "markdown",
   "id": "ef53f9bf-0bf0-46a0-8ef3-1e529d7252e2",
   "metadata": {},
   "source": [
    "## Combining tabular and geospatial data\n",
    "\n",
    "When we first learned about data frames, we introduced a dataset about earthquakes around the world. How might we plot these earthquakes?"
   ]
  },
  {
   "cell_type": "code",
   "execution_count": null,
   "id": "5b4c29aa-95ab-4453-b683-a26f0f2eae36",
   "metadata": {},
   "outputs": [],
   "source": [
    "earthquakes = gpd.read_file(\"earthquakes.csv\").set_index(\"id\")\n",
    "earthquakes"
   ]
  },
  {
   "cell_type": "markdown",
   "id": "d5671307-f5a8-454e-b9dc-f672040570cc",
   "metadata": {},
   "source": [
    "Unfortunately, even though the earthquakes dataset has `latitude` and `longitude` columns, it is not strictly in a geospatial data format like a shapefile. It's better to read this dataset using plain `pandas` and then work on adding a `geometry` column from the latitude-longitude pairs."
   ]
  },
  {
   "cell_type": "code",
   "execution_count": null,
   "id": "ee647d63-2557-4071-b0a0-72c7dd114beb",
   "metadata": {},
   "outputs": [],
   "source": [
    "earthquakes = pd.read_csv(\"earthquakes.csv\").set_index(\"id\")\n",
    "earthquakes = gpd.GeoDataFrame(\n",
    "    earthquakes,\n",
    "    # crs=\"EPSG:4326\" specifies WGS84 or GPS coordinate system, see https://epsg.io/4326\n",
    "    geometry=gpd.points_from_xy(earthquakes[\"longitude\"], earthquakes[\"latitude\"], crs=\"EPSG:4326\")\n",
    ")\n",
    "earthquakes"
   ]
  },
  {
   "cell_type": "markdown",
   "id": "88deb79d-8aec-4928-97f2-d1c86b94e642",
   "metadata": {},
   "source": [
    "Now, we can plot the earthquakes on a map!"
   ]
  },
  {
   "cell_type": "code",
   "execution_count": null,
   "id": "a5d65e49-6dbc-4b20-a1ad-3a85bbda1773",
   "metadata": {},
   "outputs": [],
   "source": [
    "fig, ax = plt.subplots(figsize=(13, 5))\n",
    "countries.plot(ax=ax, color=\"#EEE\")\n",
    "earthquakes.plot(ax=ax, column=\"magnitude\", markersize=0.1, legend=True)\n",
    "ax.set(title=\"Earthquakes between July 27, 2016 and August 25, 2016\")\n",
    "ax.set_axis_off()"
   ]
  },
  {
   "cell_type": "markdown",
   "id": "b48ba925-1bb4-4bf2-878a-289080d80c56",
   "metadata": {},
   "source": [
    "But what if we want to only plot the earthquakes that occurred over land in North America? The following map shows the earthquakes in Washington atop a background of North America, but it's pretty tedious trying to specify every single place name one-by-one."
   ]
  },
  {
   "cell_type": "code",
   "execution_count": null,
   "id": "dfb42514-d224-4bbd-ae69-b54a1a27da7e",
   "metadata": {},
   "outputs": [],
   "source": [
    "fig, ax = plt.subplots()\n",
    "na_countries = countries[countries[\"CONTINENT\"] == \"North America\"]\n",
    "na_countries.plot(ax=ax, color=\"#EEE\")\n",
    "earthquakes[earthquakes[\"name\"] == \"Washington\"].plot(ax=ax, column=\"magnitude\", markersize=0.1)\n",
    "ax.set(title=\"Earthquakes in Washington\")\n",
    "ax.set_axis_off()"
   ]
  },
  {
   "cell_type": "markdown",
   "id": "6f456e7c-5524-4b11-b757-7c925a681d85",
   "metadata": {},
   "source": [
    "## Bounding boxes\n",
    "\n",
    "A bounding box is one way to specify an intersection query. Say we wanted to show all the earthquakes over the map area covered by North America. We can see the bounding boxes for every country in North America through the `bounds` field."
   ]
  },
  {
   "cell_type": "code",
   "execution_count": null,
   "id": "b9f3d2f2-e283-4b86-aa61-b6fb5ebe6f76",
   "metadata": {},
   "outputs": [],
   "source": [
    "na_countries.bounds"
   ]
  },
  {
   "cell_type": "markdown",
   "id": "1801c205-9727-4132-87da-b4884de7db0a",
   "metadata": {},
   "source": [
    "The `total_bounds` field provides the bounding box for the entire dataset."
   ]
  },
  {
   "cell_type": "code",
   "execution_count": null,
   "id": "4570a82f-cc4c-40ab-aea1-69b6235d13bf",
   "metadata": {},
   "outputs": [],
   "source": [
    "na_countries.total_bounds"
   ]
  },
  {
   "cell_type": "markdown",
   "id": "c8ac6b46-f745-4bb0-8bd8-5d80e7bd06e6",
   "metadata": {},
   "source": [
    "We can use the total bounds as input to the `clip` method to keep only the rows where the `geometry` falls within the total bounds."
   ]
  },
  {
   "cell_type": "code",
   "execution_count": null,
   "id": "f9393d71-99f2-49e6-94da-15bdaa67bfa0",
   "metadata": {},
   "outputs": [],
   "source": [
    "earthquakes_na_bounds = earthquakes.clip(na_countries.total_bounds)\n",
    "earthquakes_na_bounds"
   ]
  },
  {
   "cell_type": "code",
   "execution_count": null,
   "id": "d52fc788-ae2e-452d-97ea-001948abb025",
   "metadata": {},
   "outputs": [],
   "source": [
    "fig, ax = plt.subplots()\n",
    "na_countries = countries[countries[\"CONTINENT\"] == \"North America\"]\n",
    "na_countries.plot(ax=ax, color=\"#EEE\")\n",
    "earthquakes_na_bounds.plot(ax=ax, column=\"magnitude\", markersize=0.1)\n",
    "ax.set(title=\"Earthquakes in North America (over land or sea)\")\n",
    "ax.set_axis_off()"
   ]
  },
  {
   "cell_type": "markdown",
   "id": "e394890c-b9e8-44e8-99c7-655fa88fced3",
   "metadata": {},
   "source": [
    "## Spatial join\n",
    "\n",
    "But what if we only want to plot the earthquakes that appeared over land—not over sea? A **spatial join** allows us to specify geospatial operations to link two datasets so that we can find all the earthquakes that were located in a North American country. This allows us to provide more precise intersection queries."
   ]
  },
  {
   "cell_type": "code",
   "execution_count": null,
   "id": "5d4127f6-2d4e-40c8-ba60-f61ae4099331",
   "metadata": {},
   "outputs": [],
   "source": [
    "earthquakes_na_countries = earthquakes.sjoin(na_countries)\n",
    "earthquakes_na_countries"
   ]
  },
  {
   "cell_type": "markdown",
   "id": "7879bd89-af87-4eb8-b849-1d30312a4225",
   "metadata": {},
   "source": [
    "The columns to the left of `geometry` are from the `earthquakes` dataset, while the columns to the right of `geometry` are linked-up from the `na_countries` dataset. Complete this sentence to describe how `sjoin` computed the above result.\n",
    "\n",
    "> For every row in the `earthquakes` dataset, `sjoin` _________________________\n",
    "\n",
    "By default, `sjoin` uses the keyword argument `how=\"inner\"`. We can also customize the join result with `how=\"left\"` or `how=\"right\"` too. Can you explain how the results differ?"
   ]
  },
  {
   "cell_type": "code",
   "execution_count": null,
   "id": "1f68e5be-b8e8-458e-9b36-1bbe8342d477",
   "metadata": {},
   "outputs": [],
   "source": [
    "earthquakes.sjoin(na_countries, how=\"inner\")"
   ]
  },
  {
   "cell_type": "markdown",
   "id": "a44041b8-4873-40bc-b5a9-a3eab8e5624a",
   "metadata": {},
   "source": [
    "Finally, let's plot all the earthquakes that occurred over land in North America."
   ]
  },
  {
   "cell_type": "code",
   "execution_count": null,
   "id": "b449dd19-9f2d-411c-9ef3-986fabcd4435",
   "metadata": {},
   "outputs": [],
   "source": [
    "fig, ax = plt.subplots()\n",
    "na_countries = countries[countries[\"CONTINENT\"] == \"North America\"]\n",
    "na_countries.plot(ax=ax, color=\"#EEE\")\n",
    "earthquakes_na_countries.plot(ax=ax, column=\"magnitude\", markersize=0.1)\n",
    "ax.set(title=\"Earthquakes in North America (over land)\")\n",
    "ax.set_axis_off()"
   ]
  },
  {
   "cell_type": "markdown",
   "id": "e27cc6dc-8e96-4759-97ec-e1d503e7c2dd",
   "metadata": {},
   "source": [
    "## Attribute joins\n",
    "\n",
    "The idea of joining two datasets isn't exclusive to geospatial data. In fact, in many data-centric contexts we may need to combine multiple datasets. Just as `sjoin` combines two geospatial datasets on their `geometry` columns using *geometric intersection*, `merge`  combines two tabular datasets on specific columns using *exact `==` matches*.\n",
    "\n",
    "Consider the following two datasets of `movies` and `directors`. Not all directors have a movie listed, and not all movies have a corresponding director in the dataset."
   ]
  },
  {
   "cell_type": "code",
   "execution_count": null,
   "id": "bd244f58-30ab-401c-9cbb-9ffa06c3b7de",
   "metadata": {},
   "outputs": [],
   "source": [
    "movies = pd.DataFrame([\n",
    "    {\"movie_id\": 51, \"movie_name\": \"Lady Bird\", \"year\": 2017, \"director_id\": 23},\n",
    "    {\"movie_id\": 47, \"movie_name\": \"Grand Budapest Hotel\", \"year\": 2014, \"director_id\": 16},\n",
    "    {\"movie_id\": 103, \"movie_name\": \"Parasite\", \"year\": 2019, \"director_id\": 14},\n",
    "    {\"movie_id\": 34, \"movie_name\": \"Frozen\", \"year\": 2013, \"director_id\": 18},\n",
    "    {\"movie_id\": 37, \"movie_name\": \"Moonrise Kingdom\", \"year\": 2012, \"director_id\": 16},\n",
    "])\n",
    "movies"
   ]
  },
  {
   "cell_type": "code",
   "execution_count": null,
   "id": "57996ddc-febc-4a91-8a82-8f8da22e0bf9",
   "metadata": {},
   "outputs": [],
   "source": [
    "directors = pd.DataFrame([\n",
    "    {\"director_id\": 14, \"director_name\": \"Bong Joon Ho\"},\n",
    "    {\"director_id\": 23, \"director_name\": \"Greta Gerwig\"},\n",
    "    {\"director_id\": 16, \"director_name\": \"Wes Anderson\"},\n",
    "    {\"director_id\": 21, \"director_name\": \"Quentin Tarantino\"},\n",
    "    {\"director_id\": 27, \"director_name\": \"Kathryn Bigelow\"},\n",
    "])\n",
    "directors"
   ]
  },
  {
   "cell_type": "markdown",
   "id": "96972651-8f63-42c0-bc33-e0a40b887fc1",
   "metadata": {},
   "source": [
    "Before running the following cell, predict the output if the default attribute join type is `how=\"inner\"`. [Visualize the procedure using PandasTutor](https://pandastutor.com/vis.html#code=import%20pandas%20as%20pd%0A%0Amovies%20%3D%20pd.DataFrame%28%5B%0A%20%20%20%20%7B%22movie_id%22%3A%2051,%20%22movie_name%22%3A%20%22Lady%20Bird%22,%20%22year%22%3A%202017,%20%22director_id%22%3A%2023%7D,%0A%20%20%20%20%7B%22movie_id%22%3A%2047,%20%22movie_name%22%3A%20%22Grand%20Budapest%20Hotel%22,%20%22year%22%3A%202014,%20%22director_id%22%3A%2016%7D,%0A%20%20%20%20%7B%22movie_id%22%3A%20103,%20%22movie_name%22%3A%20%22Parasite%22,%20%22year%22%3A%202019,%20%22director_id%22%3A%2014%7D,%0A%20%20%20%20%7B%22movie_id%22%3A%2034,%20%22movie_name%22%3A%20%22Frozen%22,%20%22year%22%3A%202013,%20%22director_id%22%3A%2018%7D,%0A%20%20%20%20%7B%22movie_id%22%3A%2037,%20%22movie_name%22%3A%20%22Moonrise%20Kingdom%22,%20%22year%22%3A%202012,%20%22director_id%22%3A%2016%7D,%0A%5D%29%0Adirectors%20%3D%20pd.DataFrame%28%5B%0A%20%20%20%20%7B%22director_id%22%3A%2014,%20%22director_name%22%3A%20%22Bong%20Joon%20Ho%22%7D,%0A%20%20%20%20%7B%22director_id%22%3A%2023,%20%22director_name%22%3A%20%22Greta%20Gerwig%22%7D,%0A%20%20%20%20%7B%22director_id%22%3A%2016,%20%22director_name%22%3A%20%22Wes%20Anderson%22%7D,%0A%20%20%20%20%7B%22director_id%22%3A%2021,%20%22director_name%22%3A%20%22Quentin%20Tarantino%22%7D,%0A%20%20%20%20%7B%22director_id%22%3A%2027,%20%22director_name%22%3A%20%22Kathryn%20Bigelow%22%7D,%0A%5D%29%0A%0Amovies.merge%28directors,%20on%3D%22director_id%22%29&d=2024-02-12&lang=py&v=v1). What would happen if we changed the join type?"
   ]
  },
  {
   "cell_type": "code",
   "execution_count": null,
   "id": "d81e7190-b918-4248-b8ff-254a55dc0460",
   "metadata": {},
   "outputs": [],
   "source": [
    "movies.merge(directors, on=\"director_id\")"
   ]
  },
  {
   "cell_type": "markdown",
   "id": "b5329c3f-2775-4918-b63e-adfbd316e1df",
   "metadata": {},
   "source": [
    "For these two datasets, the column names are the same so we can use the `on` keyword argument. If the column names are not the same, specify the column name in the left with `left_on` and the column name in the right with `right_on`."
   ]
  },
  {
   "cell_type": "markdown",
   "id": "f4fd43a9-4a6b-4d94-bcba-d47cfd1488c0",
   "metadata": {},
   "source": [
    "## Interactive maps\n",
    "\n",
    "Geopandas supports interactive maps with the folium library."
   ]
  },
  {
   "cell_type": "code",
   "execution_count": null,
   "id": "1ce38c71-1ad8-41d4-a950-5c5c7327a007",
   "metadata": {},
   "outputs": [],
   "source": [
    "!pip install -q folium mapclassify"
   ]
  },
  {
   "cell_type": "markdown",
   "id": "84c80e4f-e7f5-4221-8d9c-6a983c72505d",
   "metadata": {},
   "source": [
    "Generating an interactive map is as simple as generating a static map: instead of calling `plot`, call `explore`."
   ]
  },
  {
   "cell_type": "code",
   "execution_count": null,
   "id": "090ceea9-5fa9-4d2b-8890-7a9443be7356",
   "metadata": {},
   "outputs": [],
   "source": [
    "earthquakes.explore(column=\"magnitude\")"
   ]
  }
 ],
 "metadata": {
  "kernelspec": {
   "display_name": "Python 3 (ipykernel)",
   "language": "python",
   "name": "python3"
  },
  "language_info": {
   "codemirror_mode": {
    "name": "ipython",
    "version": 3
   },
   "file_extension": ".py",
   "mimetype": "text/x-python",
   "name": "python",
   "nbconvert_exporter": "python",
   "pygments_lexer": "ipython3",
   "version": "3.10.13"
  }
 },
 "nbformat": 4,
 "nbformat_minor": 5
}
