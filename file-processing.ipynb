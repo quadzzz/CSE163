{
 "cells": [
  {
   "cell_type": "markdown",
   "id": "a3c2915e-0384-4c11-b758-d58c931580bc",
   "metadata": {},
   "source": [
    "# File Processing\n",
    "\n",
    "In this lesson, we'll introduce two ways to process files and synthesize what we've learned about debugging. By the end of this lesson, students will be able to:\n",
    "\n",
    "- Read text files line-by-line (line processing).\n",
    "- Read text files token-by-token (token processing).\n",
    "- Write doctests and debug programs using the debugger.\n",
    "\n",
    "## Opening files in Python\n",
    "\n",
    "In computers, data is stored in **files** that can represent text documents, pictures, structured spreadsheet-like data, etc. For now, we'll focus on files that represent text data that we indicate with the `.txt` file extension.\n",
    "\n",
    "We can open and read files in Python using the built-in `open` function and specifying the **path** to the file. We will talk about file paths in a bit, but think of it like the full name of a file on a computer. The following code snippet opens the file path `poem.txt` and reads the text into the Python variable, `content`."
   ]
  },
  {
   "cell_type": "code",
   "execution_count": null,
   "id": "227ae0b2-1ad0-4d26-8c75-3c8b78435c33",
   "metadata": {},
   "outputs": [],
   "source": [
    "with open(\"poem.txt\") as f:\n",
    "    content = f.read()\n",
    "    print(content)"
   ]
  },
  {
   "cell_type": "markdown",
   "id": "5f5e70aa-7bd6-411e-907c-bdef0cecdab1",
   "metadata": {
    "editable": true,
    "slideshow": {
     "slide_type": ""
    },
    "tags": []
   },
   "source": [
    "The `with open(...) as f` syntax negotiates access to the file with the computer's operating system by maintaining a **file handle**, which is assigned to the variable `f`. (You can use any variable name instead of `f`.) All the code contained in the `with` block has access to the file handle `f`. `f.read()` returns all the contents of the file as string.\n",
    "\n",
    "> Beware that code you find online might not use the `with open(...) as f` syntax. This is the recommended way to open files in Python.\n",
    "\n",
    "## Line processing\n",
    "\n",
    "It's often useful to read a text file **line-by-line** so that you can process each line separately. We can accomplish this using the `split` function on the content of the file, but Python conveniently provides a `f.readlines()` function that returns all the string text as a list of lines.\n",
    "\n",
    "The following code snippet prints out the file with a line number in front of each line. In this example `lines` will store a list of each line in the file and our loop over that just keeps track of a counter and prints that before the line itself."
   ]
  },
  {
   "cell_type": "code",
   "execution_count": null,
   "id": "41b0d320-31c1-4f20-800a-34e0dbcd3bf2",
   "metadata": {},
   "outputs": [],
   "source": [
    "with open(\"poem.txt\") as f:\n",
    "    lines = f.readlines()\n",
    "    line_num = 1\n",
    "    for line in lines:\n",
    "        print(line_num, line[:-1]) # Slice-out the newline character at the end\n",
    "        line_num += 1"
   ]
  },
  {
   "cell_type": "markdown",
   "id": "623e33ab-3db9-491b-96e7-25de4cb9ec1b",
   "metadata": {},
   "source": [
    "## Token processing\n",
    "\n",
    "It's also often useful to process each line of text **token-by-token**. A **token** is a generalization of the idea of a \"word\" that allows for any sequence of characters separated by spaces. In this course, we will use \"word\" and \"token\" interchangeably. For example, the string `'I really <3 dogs'` has 4 tokens in it.\n",
    "\n",
    "Token processing extends the idea of line processing by splitting each line on whitespace using the `str.split` function."
   ]
  },
  {
   "cell_type": "code",
   "execution_count": null,
   "id": "803a3f47-5b97-4680-ab80-464601750754",
   "metadata": {},
   "outputs": [],
   "source": [
    "with open(\"poem.txt\") as f:\n",
    "    lines = f.readlines()\n",
    "    line_num = 1\n",
    "    for line in lines:\n",
    "        tokens = line.split()\n",
    "        print(line_num, tokens)\n",
    "        line_num += 1"
   ]
  },
  {
   "cell_type": "markdown",
   "id": "b9f0d195-a230-4d44-825f-9c8f9935c35e",
   "metadata": {
    "editable": true,
    "slideshow": {
     "slide_type": ""
    },
    "tags": []
   },
   "source": [
    "### Practice: Count odd-length tokens\n",
    "\n",
    "How might we write a Python code snippet that takes the `poem.txt` file and prints the number of odd-length tokens per line?"
   ]
  },
  {
   "cell_type": "code",
   "execution_count": null,
   "id": "1e202c48-ffa1-49f0-9b94-64a4e5165cea",
   "metadata": {},
   "outputs": [],
   "source": [
    "def count_odd(path):\n",
    "    \"\"\"\n",
    "    For the file path, prints out each line number followed by the number of odd-length tokens.\n",
    "\n",
    "    >>> count_odd(\"poem.txt\")\n",
    "    1 2\n",
    "    2 1\n",
    "    3 0\n",
    "    4 3\n",
    "    \"\"\"\n",
    "    ...\n",
    "\n",
    "\n",
    "import doctest\n",
    "doctest.testmod()"
   ]
  },
  {
   "cell_type": "markdown",
   "id": "5efb0db2-0a67-4dc3-b5d1-836dc3961e25",
   "metadata": {},
   "source": [
    "### Practice: Debugging first tokens\n",
    "\n",
    "Let's help your coworker debug a function `first_tokens`, which should return a list containing the first token from each line in the specified file path. They sent you this message via team chat.\n",
    "\n",
    "> Hey, do you have a minute to help me fix this function? There's an error when I run it.\n",
    "\n",
    "Unfortunately, your teammate only provided the code but did not provide any information about the error message, sample inputs to reproduce the problem, or a description of what they already tried.\n",
    "\n",
    "**Let's practice debugging this together and compose a helpful chat response to them.**"
   ]
  },
  {
   "cell_type": "code",
   "execution_count": null,
   "id": "37e68a8e-cb42-4ce5-86fa-b79e49029b24",
   "metadata": {},
   "outputs": [],
   "source": [
    "def first_tokens(path):\n",
    "    result = []\n",
    "    with open(path) as f:\n",
    "        for line in f.readlines():\n",
    "            line.split()\n",
    "            result += line[0]\n",
    "    return result"
   ]
  }
 ],
 "metadata": {
  "kernelspec": {
   "display_name": "Python 3 (ipykernel)",
   "language": "python",
   "name": "python3"
  },
  "language_info": {
   "codemirror_mode": {
    "name": "ipython",
    "version": 3
   },
   "file_extension": ".py",
   "mimetype": "text/x-python",
   "name": "python",
   "nbconvert_exporter": "python",
   "pygments_lexer": "ipython3",
   "version": "3.10.13"
  }
 },
 "nbformat": 4,
 "nbformat_minor": 5
}
