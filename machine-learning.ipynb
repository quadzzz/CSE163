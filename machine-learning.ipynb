{
 "cells": [
  {
   "cell_type": "markdown",
   "id": "1c6edb53-55b7-424e-8b24-28f5aee50992",
   "metadata": {},
   "source": [
    "# Machine Learning\n",
    "\n",
    "> Inspired by [Sam Lau](https://www.samlau.me/), who co-authored the [Learning Data Science](https://learningds.org/ch/12/pa_intro.html) book.\n",
    "\n",
    "In this lesson, we'll introduce machine learning from the ground up. By the end of this lesson, students will be able to:\n",
    "\n",
    "- Describe the difference between traditional algorithms and machine learning algorithms.\n",
    "- Identify the components of a machine learning model and dataset features and labels.\n",
    "- Apply `sklearn` to train a decision tree for classification and regression tasks.\n",
    "\n",
    "A while back, we discussed data visualization using the [Puget Sound Clean Air Agency's](https://pscleanair.gov/) EPA-grade air quality sensors (**AQS**). However, these sensors are typically expensive, costing anywhere between \\\\$15,000 and \\\\$40,000 each, making it hard to deploy a large number of these sensors. Furthermore, EPA-grade AQS measurements also undergo calibration and accuracy checks that lead to delays of one or two hours, leading to data that is very accurate but not necessarily timely.\n",
    "\n",
    "In contrast, \"[PurpleAir](https://www2.purpleair.com/) makes sensors that empower Community Scientists who collect hyper-local air quality data and share it with the public.\" In this lesson, we'll learn how we can use more accurate but less timely AQS measurements to calibrate the less accurate but more timely PurpleAir sensor (**PAS**) measurements so that we can provide the best information to the general public. The concepts in this lesson are actually used in the real world when you visit the EPA [AirNow Fire and Smoke Map](https://fire.airnow.gov/): the PAS data in this map are calibrated using the approach we will learn today."
   ]
  },
  {
   "cell_type": "code",
   "execution_count": null,
   "id": "2c615c49-82fd-4fc5-9996-d9242168f034",
   "metadata": {},
   "outputs": [],
   "source": [
    "import pandas as pd\n",
    "import seaborn as sns\n",
    "\n",
    "sns.set_theme()"
   ]
  },
  {
   "cell_type": "markdown",
   "id": "a23284c1-e9e7-472c-8444-6acdc257be15",
   "metadata": {},
   "source": [
    "Our dataset includes over 12,000 matched observations where we've paired each AQS measurement with a nearby PAS measurement, along with 3 other variables that experts have identified as potentially impacting PAS measurement quality. The dataset includes 5 columns:\n",
    "\n",
    "- The very accurate EPA-grade air quality sensor (AQS) measurement of the PM2.5 value.\n",
    "- The temperature in degrees celsius.\n",
    "- The relative humidity as a percentage between 0% and 100%.\n",
    "- The dew point, where a higher dew point means more moisture in the air.\n",
    "- The less accurate but more timely PurpleAir sensor (PAS) measurement of the PM2.5 value.\n",
    "\n",
    "**How can we use the PAS measurement together with the temperature, humidity, and dew point to predict the AQS measurement?**"
   ]
  },
  {
   "cell_type": "code",
   "execution_count": null,
   "id": "d3997999",
   "metadata": {},
   "outputs": [],
   "source": [
    "sensor_data = pd.read_csv(\"sensor_data.csv\")\n",
    "sensor_data"
   ]
  },
  {
   "cell_type": "markdown",
   "id": "c40e83c0-4322-49ce-8080-ba2d277e84d5",
   "metadata": {},
   "source": [
    "Let's use data visualization to understand this dataset by scatter-plotting PAS to AQS. (Why do we place PAS on the x-axis and AQS on the y-axis?)"
   ]
  },
  {
   "cell_type": "code",
   "execution_count": null,
   "id": "aa5256ae-0935-478a-8bf6-37c9753d07f0",
   "metadata": {},
   "outputs": [],
   "source": [
    "sns.relplot(sensor_data, x=\"PAS\", y=\"AQS\")"
   ]
  },
  {
   "cell_type": "markdown",
   "id": "4929916f-9841-472b-bc9f-5c2e7b080c34",
   "metadata": {},
   "source": [
    "## Guessing game\n",
    "\n",
    "Let's start with a simpler task: **How can we use the PAS measurement alone to predict the AQS measurement?** To do this, let's choose a line that best describes the trend, or the regression line that is produced by calling `lmplot`."
   ]
  },
  {
   "cell_type": "code",
   "execution_count": null,
   "id": "35237dd9",
   "metadata": {},
   "outputs": [],
   "source": [
    "def plot_line(slope, intercept=0):\n",
    "    grid = sns.relplot(sensor_data, x=\"PAS\", y=\"AQS\")\n",
    "    grid.facet_axis(0, 0).plot([0, 260], [intercept, slope * 260 + intercept], c=\"orange\")\n",
    "    grid.set(title=f\"Slope = {slope:.2f}, intercept = {intercept:.2f}\")\n",
    "    return grid\n",
    "\n",
    "\n",
    "plot_line(...)"
   ]
  },
  {
   "cell_type": "markdown",
   "id": "11ed8b4f-bb93-4b15-9f50-a7da6590976f",
   "metadata": {},
   "source": [
    "What differentiates *machine learning* from just human guessing is the use of an algorithm to find the best line, which requires a **metric** for the quality of a trend.\n",
    "\n",
    "We can visualize all of our guesses so far by plotting them against their mean squared errors on what's called a **loss surface**."
   ]
  },
  {
   "cell_type": "code",
   "execution_count": null,
   "id": "520ea7bb-1818-469f-844a-97a40cf975d9",
   "metadata": {},
   "outputs": [],
   "source": [
    "def plot_loss(slopes):\n",
    "    losses = [... for s in slopes]\n",
    "    grid = sns.relplot(x=slopes, y=losses)\n",
    "    grid.set(title=\"Loss surface\", xlabel=\"Slope\", ylabel=\"MSE\", xlim=[0, 1], ylim=[0, None])\n",
    "    return grid\n",
    "\n",
    "\n",
    "plot_loss([...])"
   ]
  },
  {
   "attachments": {},
   "cell_type": "markdown",
   "id": "45dbd0ae-b50a-4e95-bc8e-42c43cbf4d2b",
   "metadata": {
    "slideshow": {
     "slide_type": "slide"
    }
   },
   "source": [
    "## Gradient descent\n",
    "\n",
    "So how do we write a **machine learning algorithm** that can optimize this metric and find the minimum mean squared error in the loss surface so that it selects the best possible line? Machine learning scientists can apply concepts from linear algebra to solve this system by selecting a random initial theta (slope) value and then rolling down the hill toward the minimum value at the bottom of the bowl. We can express this using `numpy`, a numeric computation module for Python that is a building block for `pandas` and `sklearn` (as we'll see later).\n",
    "\n",
    "$$\n",
    "\\nabla_{\\!\\theta}\\; \\text{MSE}(\\boldsymbol{\\theta}, \\mathbf{X}, \\mathbf{y}) = -\\frac{2}{n}(\\mathbf{X}^\\top \\mathbf{y} - \\mathbf{X}^\\top \\mathbf{X} \\boldsymbol{\\theta})\n",
    "$$"
   ]
  },
  {
   "cell_type": "code",
   "execution_count": null,
   "id": "1e5c9999",
   "metadata": {
    "slideshow": {
     "slide_type": "-"
    }
   },
   "outputs": [],
   "source": [
    "import numpy as np\n",
    "\n",
    "\n",
    "def grad_mse(theta, X, y):\n",
    "    return np.array(- 2 / len(X) * (X.T @ y - X.T @ X * theta))\n",
    "\n",
    "\n",
    "thetas = [np.random.random()]\n",
    "print(\"Random initial theta value:\", thetas[-1])"
   ]
  },
  {
   "cell_type": "markdown",
   "id": "5775e2b0-97f5-48eb-a1d7-841750cb5f7b",
   "metadata": {},
   "source": [
    "We can then take a small step in the opposite direction of the gradient to roll down the hill until we converge on a good guess. To make this a machine learning algorithm, we simply put the update step in a loop until the theta values no longer noticeably change."
   ]
  },
  {
   "cell_type": "code",
   "execution_count": null,
   "id": "36cd2af9-e95a-400b-8528-7f07704ff9d7",
   "metadata": {},
   "outputs": [],
   "source": [
    "plot_line(thetas[-1])\n",
    "plot_loss(thetas)\n",
    "\n",
    "# Take a small step in the opposite direction of the gradient to roll downhill\n",
    "thetas.append(thetas[-1] - 0.002 * grad_mse(thetas[-1], sensor_data[\"PAS\"], sensor_data[\"AQS\"]))"
   ]
  },
  {
   "cell_type": "markdown",
   "id": "a9cff3c9-ef40-4330-95dc-9fc8ee8bc18e",
   "metadata": {},
   "source": [
    "## Linear regression models\n",
    "\n",
    "What we've just described is the gradient descent algorithm for fitting a linear regression model. A **linear regression model** is a machine learning model that is used to predict a numeric value (like AQS measurements) using a linear combination of coefficients and **features** (columns from the training dataset). scikit-learn provides an easy way to do define a linear regression model, fit our training dataset `X` to the target values `y`, and examine the coefficients to look inside the model."
   ]
  },
  {
   "cell_type": "code",
   "execution_count": null,
   "id": "8ee33389",
   "metadata": {
    "slideshow": {
     "slide_type": "slide"
    }
   },
   "outputs": [],
   "source": [
    "from sklearn.linear_model import LinearRegression\n",
    "X = sensor_data[[\"PAS\"]]\n",
    "y = sensor_data[\"AQS\"]\n",
    "reg = LinearRegression().fit(X, y)\n",
    "\n",
    "print(\"Model:\", \" + \".join([f\"{reg.intercept_:.2f}\"] + [f\"{coef:.2f}({X.columns[i]})\" for i, coef in enumerate(reg.coef_)]))\n",
    "print(\"Error:\", mean_squared_error(y, reg.predict(X)))\n",
    "plot_line(reg.coef_[0], reg.intercept_)"
   ]
  },
  {
   "cell_type": "markdown",
   "id": "111681aa-4af6-4fe7-b836-46154648cf82",
   "metadata": {},
   "source": [
    "This procedure is more or less how `lmplot` works!"
   ]
  },
  {
   "cell_type": "code",
   "execution_count": null,
   "id": "1bd62434-c949-483b-b29c-75432a4ed4f6",
   "metadata": {},
   "outputs": [],
   "source": [
    "sns.lmplot(sensor_data, x=\"PAS\", y=\"AQS\")"
   ]
  },
  {
   "cell_type": "markdown",
   "id": "d9c946ee-188b-4957-87aa-e64f4e502d56",
   "metadata": {},
   "source": [
    "But the advantage of designing our own model is that we can combine other variables to reduce the mean squared error loss. The final model that the EPA uses only takes into account the sensor measurement and the relative `humidity`, but not any other variables. Later, we'll learn why they made this decision."
   ]
  },
  {
   "cell_type": "code",
   "execution_count": null,
   "id": "a6aeff17-1ba2-4d2d-8620-031f5a8f94b8",
   "metadata": {},
   "outputs": [],
   "source": []
  },
  {
   "cell_type": "markdown",
   "id": "12b30838-4032-46c3-ba56-594c59a4a93e",
   "metadata": {},
   "source": [
    "## Classification versus regression\n",
    "\n",
    "Everything we've seen so far fall under the category of **regression**, where we aim to predict a *numeric* target value (one column) from one or more features (one or more other columns). The other main category of problems is **classification**, which is just like regression except we aim to predict a *categorical* target value. For example, we might want to answer the question: **How can we predict whether a house belongs in `NY` or `SF` from its beds, baths, price, year of construction, square footage, price per square foot, and elevation?**"
   ]
  },
  {
   "cell_type": "code",
   "execution_count": null,
   "id": "3bdd834f-463a-4ce3-8b93-a796ab16dbad",
   "metadata": {},
   "outputs": [],
   "source": [
    "homes = pd.read_csv(\"homes.csv\")\n",
    "homes"
   ]
  },
  {
   "cell_type": "markdown",
   "id": "bff278f6-ff23-40a4-b729-3692bd771e57",
   "metadata": {},
   "source": [
    "Let's learn about **decision trees**, a machine learning algorithm that can be used for classification (and also, as it turns out, regression too). Decision trees learn a nested if-then-else logical hierarchy to fit a training dataset. In the following visualization, the color and opacity of each box represents whether that subset of homes is more likely to be in `NY` or `SF`. The notes inside each node indicate information about the values:\n",
    "\n",
    "1. The first line shows the condition. If the condition is true, go left; if not, go right.\n",
    "1. The second line shows the percentage of samples represented by that node.\n",
    "1. The third line shows the proportion of homes within that sample that belong in `[\"NY\", \"SF\"]`.\n",
    "1. The fourth line shows the majority class in that category, corresponding to the bigger number on line 3."
   ]
  },
  {
   "cell_type": "code",
   "execution_count": null,
   "id": "3b1b7bed-18d9-4156-b80f-1910723d9cf2",
   "metadata": {},
   "outputs": [],
   "source": [
    "from sklearn.tree import DecisionTreeClassifier, plot_tree\n",
    "X = homes.drop(\"city\", axis=1)\n",
    "y = homes[\"city\"]\n",
    "clf = DecisionTreeClassifier(max_depth=2).fit(X, y)\n",
    "\n",
    "import matplotlib.pyplot as plt\n",
    "plt.figure(dpi=300)\n",
    "plot_tree(\n",
    "    clf,\n",
    "    feature_names=X.columns,\n",
    "    class_names=[\"NY\", \"SF\"],\n",
    "    label=\"root\",\n",
    "    filled=True,\n",
    "    impurity=False,\n",
    "    proportion=True,\n",
    "    rounded=False\n",
    ") and None # Hide return value of plot_tree"
   ]
  },
  {
   "cell_type": "markdown",
   "id": "e68faee0-da41-4b3c-9b83-07e64976f67d",
   "metadata": {},
   "source": [
    "We can also use this dataset for regression too. Write a one-line expression to train a `DecisionTreeRegressor` model to predict the price of a home in this dataset from all other variables."
   ]
  },
  {
   "cell_type": "code",
   "execution_count": null,
   "id": "1e9dc425-7bab-48a5-a23f-6e832eb2f327",
   "metadata": {},
   "outputs": [],
   "source": [
    "from sklearn.tree import DecisionTreeRegressor\n",
    "\n",
    "reg = ...\n",
    "reg"
   ]
  },
  {
   "cell_type": "markdown",
   "id": "262a57c8-39fd-40b0-a51b-8c235530dae5",
   "metadata": {},
   "source": [
    "Consider each of the following tasks and answer whether they would be best modeled as classification or regression.\n",
    "\n",
    "<details>\n",
    "<summary>Predict whether an email is spam or not spam.</summary>\n",
    "\n",
    "Classification, since the target value is the category \"spam\" or \"not spam\".\n",
    "</details>\n",
    "\n",
    "<details>\n",
    "<summary>Predict the number of views a video will receive based on subscriber count.</summary>\n",
    "\n",
    "Regression, since the target value is a number.\n",
    "</details>\n",
    "\n",
    "<details>\n",
    "<summary>Predict the next word to appear in a sentence.</summary>\n",
    "\n",
    "Classification, since the target value is to choose from the dictionary of all possible next words.\n",
    "</details>\n",
    "\n",
    "> If you're curious about how ChatGPT works, Jay Mody has a good introduction to [GPT in 60 Lines of NumPy](https://jaykmody.com/blog/gpt-from-scratch/)."
   ]
  }
 ],
 "metadata": {
  "kernelspec": {
   "display_name": "Python 3 (ipykernel)",
   "language": "python",
   "name": "python3"
  },
  "language_info": {
   "codemirror_mode": {
    "name": "ipython",
    "version": 3
   },
   "file_extension": ".py",
   "mimetype": "text/x-python",
   "name": "python",
   "nbconvert_exporter": "python",
   "pygments_lexer": "ipython3",
   "version": "3.10.13"
  }
 },
 "nbformat": 4,
 "nbformat_minor": 5
}
