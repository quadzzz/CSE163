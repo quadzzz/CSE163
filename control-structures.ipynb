{
 "cells": [
  {
   "cell_type": "markdown",
   "id": "5f97f018-ade9-46ee-9de8-47dcbf58faca",
   "metadata": {},
   "source": [
    "# Control Structures\n",
    "\n",
    "In this lesson, we will introduce fundamental control structures (`if` statements, `for` loops, and `while` loops) for Python. By the end of this lesson, students will be able to:\n",
    "\n",
    "1. Evaluate expressions involving arithmetic and boolean operators.\n",
    "1. Apply for loops to iterate over a range of numbers increasing/decreasing by a fixed step size.\n",
    "1. Apply while loops to iterate until reaching a desired program condition.\n",
    "\n",
    "## Jupyter Notebooks\n",
    "\n",
    "Before we learn about control structures, let's learn a bit about the Jupyter Notebook data programming environment that we'll be using throughout this course. Jupyter Notebooks allow you to write formatted text descriptions (**Markdown cells**) alongside runnable Python code (**Code cells**). The text you're reading now is an example of a Markdown cell. You can double-click this text to edit it. Feel free to edit the contents of any cells that we give you: your changes only apply to your own copy.\n",
    "\n",
    "> If you ever need to undo all your changes and start over, go to the file tree on the left, right-click the current notebook, delete the notebook, and open it again from the course website. This grabs a fresh copy of the work without any of your changes.\n",
    "\n",
    "Python code cells, like the one that appears below, can be run by clicking on the cell and then using the ▶️ play button at the top to run it. The keyboard shortcut **Ctrl + Enter** allows you to run the current cell, which comes in handy if you make some edits to a cell and your fingers are already on your keyboard.\n",
    "\n",
    "Try editing the following cell to replace Kevin with your own name and then run it using the keyboard shortcut."
   ]
  },
  {
   "cell_type": "code",
   "execution_count": null,
   "id": "abe596fb-ddc1-4955-ac58-43282c4dd720",
   "metadata": {},
   "outputs": [],
   "source": [
    "\"Hello, my name is Kevin\""
   ]
  },
  {
   "cell_type": "markdown",
   "id": "e57de738-0843-4a97-a791-857e9be68175",
   "metadata": {},
   "source": [
    "When running this code cell, notice how Jupyter Notebook produces an **output**. Usually, **the output is the value of the last expression that was run**. (There are some fancy ways to override the output but we won't learn how to do this.)"
   ]
  },
  {
   "cell_type": "code",
   "execution_count": null,
   "id": "0aea4f4e-aac5-4c6a-8712-36e5f0198608",
   "metadata": {
    "tags": []
   },
   "outputs": [],
   "source": [
    "\"Hello, my name is Kevin\"\n",
    "\"My favorite course is CSE 163\""
   ]
  },
  {
   "cell_type": "markdown",
   "id": "447380ec-08c6-4b0e-8cde-ecb0bd977052",
   "metadata": {},
   "source": [
    "## Print function\n",
    "\n",
    "How can I have Python display both of the lines of text? To do this, we will need to `print` out lines of text. The `print` function has the side-effect of outputting the arguments as text."
   ]
  },
  {
   "cell_type": "code",
   "execution_count": null,
   "id": "5e7d2beb-873f-4c72-ba62-a70c8ae487f8",
   "metadata": {
    "tags": []
   },
   "outputs": [],
   "source": [
    "print(\"Hello, my name is Kevin\")\n",
    "print(\"My favorite course is CSE 163\")"
   ]
  },
  {
   "cell_type": "markdown",
   "id": "484535dc-2a7f-48e7-9293-dcdc721ace4e",
   "metadata": {},
   "source": [
    "This helps us display more than one line of text in a cell, but take a closer look and you'll notice more subtle details happening behind the scenes.\n",
    "\n",
    "Before we introduced `print`, the cell produced as the last line of output\n",
    "\n",
    "```\n",
    "'My favorite course is CSE 163'\n",
    "```\n",
    "\n",
    "After we introduced `print`, the cell produced as the last line of output\n",
    "\n",
    "```\n",
    "My favorite course is CSE 163\n",
    "```\n",
    "\n",
    "What is different between these two outputs? Try to explain the cause for the difference.\n",
    "\n",
    "## Assignment statements\n",
    "\n",
    "Variables store values. Each Python value is composed of a value and its type. Unlike Java, Python doesn't require you to define the type of a variable. Variables are assigned using **assignment statements**.\n",
    "\n",
    "JupyterHub has a built-in debugger that enables you to pause the program on any line of code and inspect its state. Let's try it out now by clicking the **Enable Debugger** 🐞 (beetle or bug) icon at the top and then setting a **breakpoint** by clicking on the line number that you want to pause before running."
   ]
  },
  {
   "cell_type": "code",
   "execution_count": null,
   "id": "aacb2b81-8ce8-405a-8859-96aaf7b1e2ed",
   "metadata": {},
   "outputs": [],
   "source": [
    "x = 2.4\n",
    "y = 1.2\n",
    "x = x / y\n",
    "y = 5"
   ]
  },
  {
   "cell_type": "markdown",
   "id": "10030e38-e665-40a8-8ce5-37b7193649cb",
   "metadata": {},
   "source": [
    "Assignment statements don't produce values, so there's no output displayed. If you want to display an output, ask for the value of a variable. This expression evaluates to the current value stored in the variable `y`."
   ]
  },
  {
   "cell_type": "code",
   "execution_count": null,
   "id": "f968cc24-a2d4-4da4-8d38-fdf27ca74201",
   "metadata": {},
   "outputs": [],
   "source": [
    "y"
   ]
  },
  {
   "cell_type": "markdown",
   "id": "fd74c9e1-c543-46e9-ba0b-9a881dec1a15",
   "metadata": {},
   "source": [
    "## Comparison operators\n",
    "\n",
    "In addition to the string and numeric values that we see above, Python also has comparison operators that produce boolean (`True` or `False`) values."
   ]
  },
  {
   "cell_type": "code",
   "execution_count": null,
   "id": "a9fcebca-eaff-488b-ad7f-eda6d092079d",
   "metadata": {},
   "outputs": [],
   "source": [
    "x = 3\n",
    "print(x < 4)   # Is x less than 4?\n",
    "print(x >= 5)  # Is x greater than or equal to 5?\n",
    "print(x == 2)  # Is x equal to 2?\n",
    "print(x != 2)  # Is x not equal to 2?"
   ]
  },
  {
   "cell_type": "markdown",
   "id": "e886114d-6026-40e6-925a-4855c6a08edc",
   "metadata": {},
   "source": [
    "Let's try putting together everything you've seen so far. **Before running the follow code cell**, predict the output that will appear. (`x ** 2` computes `x` raised to the second power.)"
   ]
  },
  {
   "cell_type": "code",
   "execution_count": null,
   "id": "7d1349af-ba5c-412d-8539-0136c4a51a8e",
   "metadata": {},
   "outputs": [],
   "source": [
    "x = 2.4\n",
    "y = 1.2\n",
    "x = x / y\n",
    "y = 5\n",
    "\n",
    "print(x ** 2 <= y)"
   ]
  },
  {
   "cell_type": "markdown",
   "id": "9ef135ce-93a4-4883-b54b-e6ede2e93bc8",
   "metadata": {},
   "source": [
    "> The most effective way to learn all the key programming details is to predict the output of every code cell before running it. Then, you can compare your predicted output to the real output and use that to plan your next steps.\n",
    "\n",
    "Many of our in-class coding polls will provide an opportunity to pause and predict, but you can actually apply this learning strategy in any class. Even in classes that don't involve coding, comparing what you predict to what actually happens next in a lecture is an effective way to think and stay engaged.\n",
    "\n",
    "## Conditional statements\n",
    "\n",
    "Comparison operators are frequently used together with conditional statements (`if` statements). Whereas Java uses curly braces `{` and `}` to indicate a block of code, Python relies primarily on indentation to indicate blocks of code."
   ]
  },
  {
   "cell_type": "code",
   "execution_count": null,
   "id": "8080a8e3-3179-4aed-a1a8-6ee877907bbd",
   "metadata": {
    "tags": []
   },
   "outputs": [],
   "source": [
    "if x ** 2 < y:\n",
    "    print(\"x-squared is less than y\")\n",
    "elif x ** 2 == y:\n",
    "    print(\"x-squared is equal to y\")\n",
    "else:\n",
    "    print(\"x-squared is greater than y\")"
   ]
  },
  {
   "cell_type": "markdown",
   "id": "fe6bad8e-2352-425a-997f-40e7d455b8ab",
   "metadata": {},
   "source": [
    "## Loops\n",
    "\n",
    "Think about how you might write the following program so that it counts down from one minute decrementing by 10 seconds, producing the following predicted output.\n",
    "\n",
    "```\n",
    "One minute countdown\n",
    "60\n",
    "50\n",
    "40\n",
    "30\n",
    "20\n",
    "10\n",
    "0\n",
    "Done!\n",
    "```\n",
    "\n",
    "We can certainly write this out using a lot of print statements, but perhaps we can write a more general solution using loops instead. Lets practice converting this code into a loop."
   ]
  },
  {
   "cell_type": "code",
   "execution_count": null,
   "id": "2b7b4b2e-234a-44ff-8eab-277261ba4119",
   "metadata": {
    "tags": []
   },
   "outputs": [],
   "source": [
    "print(\"One minute countdown\")\n",
    "print(60)\n",
    "print(50)\n",
    "print(40)\n",
    "print(30)\n",
    "print(20)\n",
    "print(10)\n",
    "print(0)\n",
    "print(\"Done!\")"
   ]
  }
 ],
 "metadata": {
  "kernelspec": {
   "display_name": "Python 3 (ipykernel)",
   "language": "python",
   "name": "python3"
  },
  "language_info": {
   "codemirror_mode": {
    "name": "ipython",
    "version": 3
   },
   "file_extension": ".py",
   "mimetype": "text/x-python",
   "name": "python",
   "nbconvert_exporter": "python",
   "pygments_lexer": "ipython3",
   "version": "3.10.10"
  }
 },
 "nbformat": 4,
 "nbformat_minor": 5
}
