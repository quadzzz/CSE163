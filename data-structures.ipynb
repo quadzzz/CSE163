{
 "cells": [
  {
   "cell_type": "markdown",
   "id": "55b51b2a-ffc7-41e2-8094-0db9824913f1",
   "metadata": {},
   "source": [
    "# Data Structures\n",
    "\n",
    "**Data structures**, such as lists, can represent complex data. While lists are quite useful on their own, Python provides several other built-in data structures to make it easier to represent complex data. By the end of this lesson, students will be able to:\n",
    "\n",
    "- Apply list comprehensions to define basic `list` sequences.\n",
    "- Apply `set` operations to store and retrieve values in a set.\n",
    "- Apply `dict` operations to store and retrieve values in a dictionary.\n",
    "- Describe the difference between the various data structures' properties (`list`, `set`, `dict`, `tuple`).\n",
    "\n",
    "## List comprehensions\n",
    "\n",
    "Another one of the best features of Python is the list comprehension. A **list comprehension** provides a concise expression for building-up a list of values by looping over any type of sequence.\n",
    "\n",
    "We already know how to create a list counting all the numbers between 0 and 10 (exclusive) by looping over a `range`."
   ]
  },
  {
   "cell_type": "code",
   "execution_count": null,
   "id": "f74c083a-68ac-4177-ace8-9c2b1a74637b",
   "metadata": {},
   "outputs": [],
   "source": [
    "nums = []\n",
    "for i in range(10):\n",
    "    nums.append(i)\n",
    "nums"
   ]
  },
  {
   "cell_type": "markdown",
   "id": "2e3be061-e14a-48b8-912a-925100a35522",
   "metadata": {},
   "source": [
    "A list comprehension provides a shorter expression for achieving the same result."
   ]
  },
  {
   "cell_type": "code",
   "execution_count": null,
   "id": "42bf028a-7c75-4db8-865d-2d5ab3b66c0f",
   "metadata": {},
   "outputs": [],
   "source": [
    "[i for i in range(10)]"
   ]
  },
  {
   "cell_type": "markdown",
   "id": "e4721136-aa2d-4c84-822a-d8764ca904b7",
   "metadata": {},
   "source": [
    "What if we wanted to compute all these values squared? A list comprehension can help us with this as well."
   ]
  },
  {
   "cell_type": "code",
   "execution_count": null,
   "id": "1eca254c-8414-4fa7-a005-8149e49091ce",
   "metadata": {},
   "outputs": [],
   "source": [
    "[i ** 2 for i in range(10)]"
   ]
  },
  {
   "cell_type": "markdown",
   "id": "2a38161b-9b7e-4849-a0d8-cad9cdfed786",
   "metadata": {},
   "source": [
    "Or, what if we wanted to only include values of `i` that are even?"
   ]
  },
  {
   "cell_type": "code",
   "execution_count": null,
   "id": "0a1073d8-ef95-4346-9cb4-2cbcae1ceb35",
   "metadata": {},
   "outputs": [],
   "source": [
    "[i ** 2 for i in range(10) if i % 2 == 0]"
   ]
  },
  {
   "cell_type": "markdown",
   "id": "d11f17fb-4d85-4d80-a561-07bd70231962",
   "metadata": {},
   "source": [
    "Before running the next block of code, what do you think will output?"
   ]
  },
  {
   "cell_type": "code",
   "execution_count": null,
   "id": "c99f0fb9-bcdd-4a96-a6a2-e29edfd374c5",
   "metadata": {},
   "outputs": [],
   "source": [
    "words = \"I saw a dog today\".split()\n",
    "[word[0] for word in words if len(word) >= 2]"
   ]
  },
  {
   "cell_type": "markdown",
   "id": "a7db0f78-0760-42bb-ba45-1790e0fb89c9",
   "metadata": {},
   "source": [
    "### Practice: Fun numbers\n",
    "\n",
    "Fill in the blank with a list comprehension to complete the definition for `fun_numbers`."
   ]
  },
  {
   "cell_type": "code",
   "execution_count": null,
   "id": "7aadbbf2-74a5-4e94-9b46-0a00de377506",
   "metadata": {},
   "outputs": [],
   "source": [
    "def fun_numbers(start, stop):\n",
    "    \"\"\"\n",
    "    Returns an increasing list of all fun numbers between start (inclusive) and stop (exclusive).\n",
    "    A fun number is defined as a number that is either divisible by 2 or divisible by 5.\n",
    "\n",
    "    >>> fun_numbers(2, 16)\n",
    "    [2, 4, 5, 6, 8, 10, 12, 14, 15]\n",
    "    \"\"\"\n",
    "    return ...\n",
    "\n",
    "\n",
    "import doctest\n",
    "doctest.testmod()"
   ]
  },
  {
   "cell_type": "markdown",
   "id": "3c2f121b-9a33-4e11-916c-5515b77139f7",
   "metadata": {},
   "source": [
    "## Tuples\n",
    "\n",
    "Whereas lists represent mutable sequences of any elements, **tuples** (pronounced \"two pull\" or like \"supple\") represent immutable sequences of any elements. Just like strings, tuples are immutable, so the sequence of elements in a tuple cannot be modified after the tuple has been created.\n",
    "\n",
    "While lists are defined with square brackets, **tuples are defined by commas alone** as in the expression `1, 2, 3`. We often add parentheses around the structure for clarity. In fact, when representing a tuple, Python will use parentheses to indicate a tuple."
   ]
  },
  {
   "cell_type": "code",
   "execution_count": null,
   "id": "51ddc795-ffc2-43ef-92a1-65274924092d",
   "metadata": {},
   "outputs": [],
   "source": [
    "1, 2, 3"
   ]
  },
  {
   "cell_type": "markdown",
   "id": "d330db3c-384c-49fe-8e09-fd825dfd004e",
   "metadata": {},
   "source": [
    "We learned that there are many list functions, most of which modify the original list. Since tuples are immutable, there isn't an equivalent list of tuple functions. So why use tuples when we could just use lists instead?\n",
    "\n",
    "> Your choice of data structure communicates information to other programmers. If you know exactly how many elements should go in your data structure and those elements don't need to change, a `tuple` is right for the job. **By choosing to use a tuple in this situation, we communicate to other programmers that the sequence of elements in this data structure cannot change!** Everyone working on your project doesn't have to worry about passing a `tuple` to a function and that function somehow destroying the data.\n",
    "\n",
    "Tuples provide a helpful way return more than one value from a function. For example, we can write a function that returns both the first letter and the second letter from a word."
   ]
  },
  {
   "cell_type": "code",
   "execution_count": null,
   "id": "df832f2e-5c24-43df-89db-c08a168bd18f",
   "metadata": {},
   "outputs": [],
   "source": [
    "def first_two_letters(word):\n",
    "    return word[0], word[1]\n",
    "\n",
    "\n",
    "a, b = first_two_letters('goodbye')\n",
    "a"
   ]
  },
  {
   "cell_type": "markdown",
   "id": "06e61e0b-1bc1-4c54-86d5-5957023e8ad0",
   "metadata": {},
   "source": [
    "## Sets\n",
    "\n",
    "Whereas lists represent mutable sequences of any elements, **sets** represent mutable unordered collections of unique elements. Unlike lists, sets are not sequences so we cannot index into a set in the same way that we could for lists and tuples. Sets only represent unique elements, so attempts to add duplicate elements are ignored."
   ]
  },
  {
   "cell_type": "code",
   "execution_count": null,
   "id": "c281cc03-9f6a-40e7-8dab-42d0bb1f6c86",
   "metadata": {},
   "outputs": [],
   "source": [
    "nums = set()\n",
    "nums.add(1)\n",
    "nums.add(2)\n",
    "nums.add(3)\n",
    "nums.add(2) # duplicate ignored\n",
    "nums.add(-1)\n",
    "nums"
   ]
  },
  {
   "cell_type": "markdown",
   "id": "a4bbc637-5bc9-4b14-b181-f9d9bb9172d5",
   "metadata": {},
   "source": [
    "So what's the point of using a `set` over a `list`? Sets are often much faster than lists at determining whether a particular element is contained in the set. We can see this in action by comparing the time it takes to count the number of unique words in a large document. Using a list results in much slower code."
   ]
  },
  {
   "cell_type": "code",
   "execution_count": null,
   "id": "0fb31262-a0d6-49ec-8292-f36b3a7afdb0",
   "metadata": {},
   "outputs": [],
   "source": [
    "def count_unique(path):\n",
    "    unique = []\n",
    "    with open(path) as f:\n",
    "        for line in f.readlines():\n",
    "            for token in line.split():\n",
    "                if token not in unique:\n",
    "                    unique.append(token)\n",
    "    return len(unique)\n",
    "\n",
    "\n",
    "%time count_unique(\"moby-dick.txt\")"
   ]
  },
  {
   "cell_type": "markdown",
   "id": "4f4e8a0d-9232-459b-8c07-b6ceff760e92",
   "metadata": {},
   "source": [
    "By combining sets and list comprehensions, we can compose our programs in more \"Pythonic\" ways."
   ]
  },
  {
   "cell_type": "code",
   "execution_count": null,
   "id": "aa4422d3-b392-4f66-8e79-1aebcc3ee5b0",
   "metadata": {},
   "outputs": [],
   "source": [
    "def count_unique(path):\n",
    "    with open(path) as f:\n",
    "        return ...\n",
    "\n",
    "\n",
    "%time count_unique(\"moby-dick.txt\")"
   ]
  },
  {
   "cell_type": "markdown",
   "id": "4c11b8b0-64e4-45f8-a143-75f0380452bf",
   "metadata": {},
   "source": [
    "### Practice: Area codes\n",
    "\n",
    "Fill in the blank to compose a \"Pythonic\" program that returns the number of unique area codes from the given list of phone numbers formatted as strings like `\"123-456-7890\"`. The area code is defined as the first 3 digits in a phone number."
   ]
  },
  {
   "cell_type": "code",
   "execution_count": null,
   "id": "010cef0c-46af-4ee1-8145-0ead4454fba8",
   "metadata": {},
   "outputs": [],
   "source": [
    "def area_codes(phone_numbers):\n",
    "    \"\"\"\n",
    "    Returns the number of unique area codes in the given sequence.\n",
    "\n",
    "    >>> area_codes([\n",
    "    ...     '123-456-7890',\n",
    "    ...     '206-123-4567',\n",
    "    ...     '123-000-0000',\n",
    "    ...     '425-999-9999'\n",
    "    ... ])\n",
    "    3\n",
    "    \"\"\"\n",
    "    return len(set(...))\n",
    "\n",
    "\n",
    "import doctest\n",
    "doctest.testmod()"
   ]
  },
  {
   "cell_type": "markdown",
   "id": "78c7d550-7a6e-4a94-a7a1-cbfdc0a4100f",
   "metadata": {},
   "source": [
    "## Dictionaries\n",
    "\n",
    "A **dictionary** represents mutable unordered collections of key-value pairs, where the keys are immutable and unique. In other words, dictionaries are more flexible than lists. A list could be considered a dictionary where the \"keys\" are non-negative integers counting from 0 to the length minus 1.\n",
    "\n",
    "Dictionaries are often helpful for counting occurrences. Whereas the above example counted the total number of unique words in a text file, a dictionary can help us count the number of occurrences of each unique word in that file."
   ]
  },
  {
   "cell_type": "code",
   "execution_count": null,
   "id": "b52bc626-0581-4e72-80e6-a65a5880916a",
   "metadata": {},
   "outputs": [],
   "source": [
    "def count_tokens(path):\n",
    "    counts = {}\n",
    "    with open(path) as f:\n",
    "        for token in f.read().split():\n",
    "            if token not in counts:\n",
    "                counts[token] = 1\n",
    "            else:\n",
    "                counts[token] += 1\n",
    "    return counts\n",
    "\n",
    "\n",
    "%time count_tokens(\"moby-dick.txt\")"
   ]
  },
  {
   "cell_type": "markdown",
   "id": "01259ae5-82ed-47d8-a6bf-15c4ddd16c2a",
   "metadata": {},
   "source": [
    "As an aside, there's also a more Pythonic way to write this program using `collections.Counter`, which is a specialized dictionary. The `Counter` type also sorts the results in order from greatest to least."
   ]
  },
  {
   "cell_type": "code",
   "execution_count": null,
   "id": "6eadca47-90d8-453c-aa66-b70619e133b1",
   "metadata": {},
   "outputs": [],
   "source": [
    "def count_tokens(path):\n",
    "    from collections import Counter\n",
    "    with open(path) as f:\n",
    "        return ...\n",
    "\n",
    "\n",
    "%time count_tokens(\"moby-dick.txt\")"
   ]
  },
  {
   "cell_type": "markdown",
   "id": "4f2249b5-92f6-4b3e-80d1-80fd25b28868",
   "metadata": {},
   "source": [
    "### Practice: Count lengths\n",
    "\n",
    "Suppose we want to compute a histogram (counts) for the number of words that begin with each character in a given text file. Your coworker has written the following code and would like your help to finish the program. Explain your fix."
   ]
  },
  {
   "cell_type": "code",
   "execution_count": null,
   "id": "942fcab5-2592-4960-9d2d-86ac099d4194",
   "metadata": {},
   "outputs": [],
   "source": [
    "def count_lengths(words):\n",
    "    counts = {}\n",
    "    for word in words:\n",
    "        first_letter = word[0]\n",
    "        counts[first_letter] += 1\n",
    "    return counts\n",
    "\n",
    "\n",
    "count_lengths(['cats', 'dogs', 'deers'])"
   ]
  }
 ],
 "metadata": {
  "kernelspec": {
   "display_name": "Python 3 (ipykernel)",
   "language": "python",
   "name": "python3"
  },
  "language_info": {
   "codemirror_mode": {
    "name": "ipython",
    "version": 3
   },
   "file_extension": ".py",
   "mimetype": "text/x-python",
   "name": "python",
   "nbconvert_exporter": "python",
   "pygments_lexer": "ipython3",
   "version": "3.10.13"
  }
 },
 "nbformat": 4,
 "nbformat_minor": 5
}
