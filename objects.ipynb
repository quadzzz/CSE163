{
 "cells": [
  {
   "cell_type": "markdown",
   "id": "c55af259-5103-44f5-9258-cb4fd6a90afd",
   "metadata": {},
   "source": [
    "# Objects\n",
    "\n",
    "Over the past few weeks, we've used the word \"object\" frequently without defining exactly what it means. In this lesson, we'll introduce objects and see how we can use them in real data programming work. By the end of this lesson, students will be able to:\n",
    "\n",
    "- Define a Python class to represent objects with specific states and behaviors.\n",
    "- Explain how the Python memory model allows multiple references to the same objects.\n",
    "- Add type annotations to variables, function definitions, and class fields."
   ]
  },
  {
   "cell_type": "code",
   "execution_count": null,
   "id": "66dcbcfa-a83c-4726-9220-102944b563bd",
   "metadata": {},
   "outputs": [],
   "source": [
    "import pandas as pd"
   ]
  },
  {
   "cell_type": "markdown",
   "id": "990607a9-cada-4c42-8189-d9b56528e608",
   "metadata": {},
   "source": [
    "An **object** (aka instance) in Python is a way of combining into a distinct unit (aka encapsulating) two software concepts:\n",
    "\n",
    "- **State**, or data like the elements of a list.\n",
    "- **Behavior**, or methods like a function that can take a list and return the size of the list.\n",
    "\n",
    "Recently, we've been using `DataFrame` objects frequently. A `DataFrame` stores data (state) and has many methods (behaviors), such as `groupby`."
   ]
  },
  {
   "cell_type": "code",
   "execution_count": null,
   "id": "ac980b99-82fc-4932-8a70-5969405329d9",
   "metadata": {},
   "outputs": [],
   "source": [
    "seattle_air = pd.read_csv(\"seattle_air.csv\", index_col=\"Time\", parse_dates=True)\n",
    "seattle_air.groupby(seattle_air.index.year).count()"
   ]
  },
  {
   "cell_type": "markdown",
   "id": "3308f98e-3c10-43ee-82cb-442f73765d18",
   "metadata": {},
   "source": [
    "## Reference semantics\n",
    "\n",
    "When we call a method like `groupby` and then `count` each group, the result is a new object that is distinct from the original. If we now ask for the value of `seattle_air`, we'll see that the original `DataFrame` is still there with all its data intact and untouched by the `groupby` or `count` operations."
   ]
  },
  {
   "cell_type": "code",
   "execution_count": null,
   "id": "800fd6a8-9de0-4347-a379-467bd7c2b238",
   "metadata": {},
   "outputs": [],
   "source": [
    "seattle_air"
   ]
  },
  {
   "cell_type": "markdown",
   "id": "db208d3f-72ec-4b25-b960-46a7d5e723d6",
   "metadata": {},
   "source": [
    "However, unlike `groupby`, there are some `DataFrame` methods that can modify the underlying `DataFrame`. The `dropna` method for removing `NaN` values can modify the original when we include the keyword argument `inplace=True` (default `False`). Furthermore, if `inplace=True`, `dropna` will return `None` to more clearly communicate that instead of returning a new `DataFrame`, changes were made to the original `DataFrame`."
   ]
  },
  {
   "cell_type": "code",
   "execution_count": null,
   "id": "371037eb-1ea3-4600-8cf3-f6b95756a383",
   "metadata": {},
   "outputs": [],
   "source": [
    "seattle_air.dropna()"
   ]
  },
  {
   "cell_type": "code",
   "execution_count": null,
   "id": "7f1df1fb-7971-467d-ae3d-b4c4b6fd86a6",
   "metadata": {},
   "outputs": [],
   "source": [
    "seattle_air"
   ]
  },
  {
   "cell_type": "markdown",
   "id": "c1b3d08a-bb9e-4fdb-b2c8-4eb454caf1be",
   "metadata": {},
   "source": [
    "## Defining classes\n",
    "\n",
    "Python allows us to create our own custom objects by defining a **class**: a blueprint or template for objects. The `pandas` developers defined a `DataFrame` class so that you can construct `DataFrame` objects to use. Here's a highly simplified outline of the code that they could have written to define the `DataFrame` class."
   ]
  },
  {
   "cell_type": "code",
   "execution_count": null,
   "id": "180bc8db-2c98-4b86-a067-f118b52a2bed",
   "metadata": {},
   "outputs": [],
   "source": [
    "class DataFrame:\n",
    "    \"\"\"Represents two-dimensional tabular data structured around an index and column names.\"\"\"\n",
    "\n",
    "    def __init__(self, index, columns, data):\n",
    "        \"\"\"Initializes a new DataFrame object from the given index, columns, and tabular data.\"\"\"\n",
    "        print(\"Initializing DataFrame\")\n",
    "        self.index = index\n",
    "        self.columns = columns\n",
    "        self.data = data\n",
    "\n",
    "    def dropna(self, inplace=False):\n",
    "        \"\"\"\"\n",
    "        Drops all rows containing NaN from this DataFrame. If inplace, returns None and modifies\n",
    "        self. If not inplace, returns a new DataFrame without modifying self.\n",
    "        \"\"\"\n",
    "        print(\"Calling dropna\")\n",
    "        if not inplace:\n",
    "            return DataFrame([...], [...], [...])\n",
    "        else:\n",
    "            self.columns = [...]\n",
    "            self.index = [...]\n",
    "            self.data = [...]\n",
    "            return None\n",
    "\n",
    "    def __getitem__(self, column_or_indexer):\n",
    "        \"\"\"Given a column or indexer, returns the selection as a new Series or DataFrame object.\"\"\"\n",
    "        print(\"Calling __getitem__\")\n",
    "        if column_or_indexer in self.columns:\n",
    "            return \"Series\" # placeholder for a Series\n",
    "        else:\n",
    "            return DataFrame([...], [...], [...])"
   ]
  },
  {
   "cell_type": "markdown",
   "id": "1147f0eb-6ffb-424b-8973-8a55981b409f",
   "metadata": {},
   "source": [
    "Let's breakdown each line of code.\n",
    "\n",
    "- `class DataFrame:` begins the class definition. We always name classes by capitalizing each word removing spaces between words.\n",
    "- `def __init__(self, index, columns, data):` defines a special function called an initializer. The **initializer** is called whenever constructing a new object. Each `DataFrame` stores its own data in **fields** (variables associated with an object), in this case called `index`, `columns`, and `data`.\n",
    "- `def dropna(self, inplace=False):` defines a function that can be called on `DataFrame` objects. Like the initializer, it also takes a `self` parameter as well as a default parameter `inplace=False`. Depending on the value of `inplace`, it can either return a new `DataFrame` or `None`.\n",
    "- `def __getitem__(self, column_or_indexer):` defines a special function that is called when you use the square brackets for indexing.\n",
    "\n",
    "Notice how every **method** (function associated with an object) always takes `self` as the first parameter. The two special functions that we defined above are only \"special\" in the sense that they have a specific naming format preceded by two underscores and followed by two underscores. These **dunder methods** are used internally by Python to enable the convenient syntax that we're all used to using.\n",
    "\n",
    "Just like how we need to call a function to use it, we also need to create an object (instance) to use a class."
   ]
  },
  {
   "cell_type": "code",
   "execution_count": null,
   "id": "29e94100-8960-44c5-942d-e702385e6e15",
   "metadata": {},
   "outputs": [],
   "source": [
    "example = DataFrame([0, 1, 2], [\"PM2.5\"], [10, 20, 30])\n",
    "example[\"PM2.5\"]"
   ]
  },
  {
   "cell_type": "markdown",
   "id": "d3b85f67-bf2f-4438-9de6-50e0541dc0a8",
   "metadata": {},
   "source": [
    "Another useful dunder method is the `__repr__` method, which should return a string representing the object. By default, `__repr__` just tells you the fully-qualified name of the object's class and the location it is stored in your computer memory. But we can make it much more useful by defining our own `__repr__` method."
   ]
  },
  {
   "cell_type": "code",
   "execution_count": null,
   "id": "705dad74-05e6-4153-817b-42aefa05bc09",
   "metadata": {},
   "outputs": [],
   "source": [
    "example"
   ]
  },
  {
   "cell_type": "markdown",
   "id": "c8c4ec93-e672-4db5-8b56-a146f4f6223d",
   "metadata": {},
   "source": [
    "## Practice: `Student` class\n",
    "\n",
    "Write a `Student` class that represents a UW student, where each student has a `name`, a student `number`, and a `courses` dictionary that associates the name of each course to a number of credits. The `Student` class should include the following methods:\n",
    "\n",
    "- An initializer that takes the student number and the name of a file containing information about their schedule.\n",
    "- A method `__getitem__` that takes a `str` course name and returns the `int` number of credits for the course. If the student is not taking the given course, return `None`.\n",
    "- A method `get_courses` that returns a list of the courses the student is taking.\n",
    "\n",
    "Consider the following file `nicole.txt`.\n",
    "\n",
    "```\n",
    "CSE163 4\n",
    "PHIL100 4\n",
    "CSE390HA 1\n",
    "```\n",
    "\n",
    "The student's `name` is just the name of the file without the file extension. The file indicates they are taking CSE163 for 4 credits, PHIL100 for 4 credits, and CSE390HA for 1 credit."
   ]
  },
  {
   "cell_type": "code",
   "execution_count": null,
   "id": "30c03ce0-e417-4a27-ab0d-fd0d8e76994a",
   "metadata": {},
   "outputs": [],
   "source": [
    "class Student:\n",
    "    ...\n",
    "\n",
    "\n",
    "nicole = Student(1234567, \"nicole.txt\")\n",
    "for course in nicole.get_courses():\n",
    "    print(course, nicole[course])"
   ]
  },
  {
   "cell_type": "markdown",
   "id": "bc5e7876-0ff7-4322-9827-321069c9642b",
   "metadata": {},
   "source": [
    "## Type annotations\n",
    "\n",
    "We've talked a lot about the types of each variable in the Python programs that we write, but we can also optionally write-in the type of each variable or return value as a type hint. In certain assessments, we'll use `mypy` to check your type annotations. Let's read the [Type hints cheat sheet](https://mypy.readthedocs.io/en/stable/cheat_sheet_py3.html) and practice adding type annotations to our previous class definitions."
   ]
  },
  {
   "cell_type": "code",
   "execution_count": null,
   "id": "a7be2cc2-1cba-407a-a414-f58a09003188",
   "metadata": {},
   "outputs": [],
   "source": [
    "!pip install -q nb_mypy\n",
    "%reload_ext nb_mypy\n",
    "%nb_mypy mypy-options --strict"
   ]
  },
  {
   "cell_type": "markdown",
   "id": "c620677e-365f-45f5-9a31-2e692d8bac9a",
   "metadata": {},
   "source": [
    "## Practice: `University` class\n",
    "\n",
    "Write a `University` class that represents one or more students enrolled in courses at a university. The `University` class should include the following methods:\n",
    "\n",
    "- An initializer that takes the university name and, optionally, a list of `Student` objects to enroll in this university.\n",
    "- A method `students` that takes returns all the enrolled `Student` objects sorted in alphabetical order by student name.\n",
    "- A method `enroll` that takes a `Student` object and enrolls them in the university.\n",
    "\n",
    "Later, we'll add more methods to this class. How well does your approach stand up to changing requirements?"
   ]
  },
  {
   "cell_type": "code",
   "execution_count": null,
   "id": "02488b8c-6326-4a9a-bb58-ef17f7109365",
   "metadata": {},
   "outputs": [],
   "source": [
    "class University:\n",
    "    ...\n",
    "\n",
    "\n",
    "uw = University(\"Udub\", [nicole])\n",
    "uw.enrollments()"
   ]
  },
  {
   "cell_type": "markdown",
   "id": "bea2ec7d-d918-4a4c-90ec-c409a427133a",
   "metadata": {},
   "source": [
    "## Mutable default parameters\n",
    "\n",
    "Default parameter values are evaluated and bound to the parameter when the function is defined. This can lead to some unanticipated results when using mutable values like lists or dictionaries as default parameter values.\n",
    "\n",
    "Say we make two new `University` objects without specifying a list of students to enroll. The initializer might then assign this list value to a field."
   ]
  },
  {
   "cell_type": "code",
   "execution_count": null,
   "id": "0d910b70-cba7-4e89-9efb-e8e61418a2ed",
   "metadata": {},
   "outputs": [],
   "source": [
    "wsu = University(\"Wazzu\")\n",
    "wsu.enrollments()"
   ]
  },
  {
   "cell_type": "code",
   "execution_count": null,
   "id": "b615d9eb-ef01-4096-a391-6c1b80dc8cb1",
   "metadata": {},
   "outputs": [],
   "source": [
    "seattle_u = University(\"SeattleU\")\n",
    "seattle_u.enrollments()"
   ]
  },
  {
   "cell_type": "markdown",
   "id": "647347fb-ec0f-4e46-acbc-01f848cb01d1",
   "metadata": {},
   "source": [
    "When we enroll a student to `seattle_u`, the change will also affect `wsu`. There are several ways to work around this, with the most common approach changing the default parameter value to `None` and adding an `if` statement in the program logic."
   ]
  },
  {
   "cell_type": "code",
   "execution_count": null,
   "id": "04de0e07-21bd-47b4-b285-e851b17ab1e0",
   "metadata": {},
   "outputs": [],
   "source": [
    "seattle_u.enroll(nicole)\n",
    "seattle_u.enrollments()"
   ]
  },
  {
   "cell_type": "code",
   "execution_count": null,
   "id": "3332a75a-ff7b-4f15-b411-40dcf797262b",
   "metadata": {},
   "outputs": [],
   "source": [
    "wsu.enrollments()"
   ]
  }
 ],
 "metadata": {
  "kernelspec": {
   "display_name": "Python 3 (ipykernel)",
   "language": "python",
   "name": "python3"
  },
  "language_info": {
   "codemirror_mode": {
    "name": "ipython",
    "version": 3
   },
   "file_extension": ".py",
   "mimetype": "text/x-python",
   "name": "python",
   "nbconvert_exporter": "python",
   "pygments_lexer": "ipython3",
   "version": "3.10.13"
  }
 },
 "nbformat": 4,
 "nbformat_minor": 5
}
