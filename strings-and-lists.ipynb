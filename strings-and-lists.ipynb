{
 "cells": [
  {
   "cell_type": "markdown",
   "id": "852b96b6-eea3-474b-a406-dd65124989fe",
   "metadata": {},
   "source": [
    "# Strings and Lists\n",
    "\n",
    "In this lesson, we'll introduce strings and lists in Python. We'll also learn the principles of documenting code. By the end of this lesson, students will be able to:\n",
    "\n",
    "-   Evaluate expressions involving strings, string slicing, and lists.\n",
    "-   Apply `str` operations and slicing to compute a new string representing the desired text.\n",
    "-   Apply `list` operations to store, retrieve, and modify values in a list.\n",
    "\n",
    "## String indexing\n",
    "\n",
    "**Strings** are commonly used to represent text. In Python, `str` (pronounced \"stir\") represents a string. We'll refer to **string** and `str` interchangeably since we're focusing on Python programming.\n",
    "\n",
    "In Python, `str` values are defined by surrounding text in matching quotes: either a `'` or a `\"`.\n",
    "\n",
    "> Which quotation mark you use is a matter of personal preference: choose one and try to be consistent. It's acceptable to deviate from your preferred style when you want to work with a string that contains a character like `'` (e.g. the `str` `\"you won't\"`). In that case, it would not work to define a `str` like `'you won't'` since Python would read the apostrophe as the closing of the string. So we'd prefer `\"` here to avoid the conflicting interpretation of `'`.\n",
    "\n",
    "The characters in a string are accessible by index starting from 0 and incrementing up to the length of the string.\n",
    "\n",
    "| h | e | l | l | o |   | w | o | r | l |  d |\n",
    "|---|---|---|---|---|---|---|---|---|---|----|\n",
    "| 0 | 1 | 2 | 3 | 4 | 5 | 6 | 7 | 8 | 9 | 10 |\n",
    "\n",
    "To access a character at a specific index, use the `s[i]` notation to get a particular character from a string `s`."
   ]
  },
  {
   "cell_type": "code",
   "execution_count": null,
   "id": "a85005cf-e732-4042-b29a-cc6f68176d57",
   "metadata": {
    "tags": []
   },
   "outputs": [],
   "source": [
    "s = \"hello world\"\n",
    "s[0]"
   ]
  },
  {
   "cell_type": "markdown",
   "id": "214fcde1-6fb9-4df1-a9f2-8f5297465a80",
   "metadata": {},
   "source": [
    "The built-in `len` function returns the length of an object such as a string. It helps compute letters from the end of the string."
   ]
  },
  {
   "cell_type": "code",
   "execution_count": null,
   "id": "76db3d20-2b3d-47ca-9a24-a4f9594cf25a",
   "metadata": {
    "tags": []
   },
   "outputs": [],
   "source": [
    "s = \"hello world\"\n",
    "s[len(s) - 2]"
   ]
  },
  {
   "cell_type": "markdown",
   "id": "1364305b-53c3-4eee-9c0b-e83d4fada0f5",
   "metadata": {},
   "source": [
    "> As you learn to write more complex Python programs, you'll quickly run into code involving nested function calls. To debug an expression with nested function calls, take-apart complex expressions. In the nested function call to `s[len(s)]`, the call `len(s)` occurs first and its result is passed for string indexing `s[...]`.\n",
    "\n",
    "### Practice: Pairs swapped\n",
    "\n",
    "Write a function `pairs_swapped` that takes a string and returns all the characters in the given string except with each pair of characters swapped. For example, calling the function on a string `\"hello there\"` should produce the result `\"ehll ohtree\"`.\n",
    "\n",
    "1. Start by writing the function definition.\n",
    "1. Add a brief docstring that explains the behavior.\n",
    "1. Add at least two doctests: one using the example above, and another that you came up with on your own.\n",
    "1. Write the method using a `for` loop and building-up the result by adding each character one at a time."
   ]
  },
  {
   "cell_type": "code",
   "execution_count": null,
   "id": "c7f49836-111e-47ce-aef3-085acf691bc1",
   "metadata": {},
   "outputs": [],
   "source": [
    "\n",
    "\n",
    "\n",
    "import doctest\n",
    "doctest.testmod()"
   ]
  },
  {
   "cell_type": "markdown",
   "id": "4c220e73-207e-40a6-80e2-da625edcb5ea",
   "metadata": {},
   "source": [
    "## String slicing\n",
    "\n",
    "String indexing gets a single character from a string. How do we get multiple characters from a string? Python has a special syntax called slicing that enables patterned access to substrings: `s[start:end]`."
   ]
  },
  {
   "cell_type": "code",
   "execution_count": null,
   "id": "a854e1c9-2143-411c-bff0-e36b83459d5f",
   "metadata": {},
   "outputs": [],
   "source": [
    "s = \"hello world\"\n",
    "s[2:7]"
   ]
  },
  {
   "cell_type": "markdown",
   "id": "b0f8c221-5124-45d3-a8b6-f6974f35c538",
   "metadata": {},
   "source": [
    "To slice all the way to the end of a string, simply don't specify an `end` position."
   ]
  },
  {
   "cell_type": "code",
   "execution_count": null,
   "id": "9f0db6b1-3273-465f-a58c-f4cb08fb4c4b",
   "metadata": {},
   "outputs": [],
   "source": [
    "s = \"hello world\"\n",
    "s[2:]"
   ]
  },
  {
   "cell_type": "markdown",
   "id": "44c8138c-f6cb-40a9-a22e-63819c1b6429",
   "metadata": {},
   "source": [
    "Slices also allow a third parameter, step size, that works just like in `range`."
   ]
  },
  {
   "cell_type": "code",
   "execution_count": null,
   "id": "c91f31d2-8fb8-47ba-9ec3-fd8d6aa5d964",
   "metadata": {},
   "outputs": [],
   "source": [
    "s = \"hello world\"\n",
    "s[2:8:2]"
   ]
  },
  {
   "cell_type": "markdown",
   "id": "f5aab499-b6e6-4a6f-bc45-9bcd4aabe929",
   "metadata": {},
   "source": [
    "## Looping over strings\n",
    "\n",
    "There are two ways to loop over a string. One way is to loop over all the indices of a string with the help of the `range` function."
   ]
  },
  {
   "cell_type": "code",
   "execution_count": null,
   "id": "f631d1f3-8b83-4e7a-900a-254434ac71ef",
   "metadata": {
    "tags": []
   },
   "outputs": [],
   "source": [
    "s = \"hello world\"\n",
    "for i in range(len(s)):\n",
    "    print(s[i])"
   ]
  },
  {
   "cell_type": "markdown",
   "id": "348b51f2-d06d-45bd-9270-48dc0fce2cef",
   "metadata": {},
   "source": [
    "Another way is to loop over the characters in a string directly."
   ]
  },
  {
   "cell_type": "code",
   "execution_count": null,
   "id": "d2b49b3a-77e8-4fa9-a305-ee9f5367a18e",
   "metadata": {},
   "outputs": [],
   "source": [
    "s = \"hello world\"\n",
    "for c in s:\n",
    "    print(c)"
   ]
  },
  {
   "cell_type": "markdown",
   "id": "61738cea-82ff-471f-aeab-24c02a60cd16",
   "metadata": {},
   "source": [
    "How does this work? It turns out that the `for` loop in Python iterates over **sequences**. A `range` produces a sequence of integers. A `str` is also a sequence composed of the characters within the string.\n",
    "\n",
    "## String functions\n",
    "\n",
    "Earlier, we saw how the Python `doctest` has a `testmod()` function that we could call to run all the doctests that we wrote for our current module. Likewise, strings also have functions that you can call to answer questions about strings.\n",
    "\n",
    "For example, every string has a `find` function that you can call on a string `s1` that returns the index of a given string `s2` inside `s1`."
   ]
  },
  {
   "cell_type": "code",
   "execution_count": null,
   "id": "c8ec675b-ffc5-4dbc-9bb7-3cfac24157ba",
   "metadata": {},
   "outputs": [],
   "source": [
    "\"I really like dogs\".find(\"ll\")"
   ]
  },
  {
   "cell_type": "markdown",
   "id": "618edf4d-2bc0-4558-bb1d-24e3925fe0d8",
   "metadata": {},
   "source": [
    "If the string `s2` is not found in `s1`, the function returns -1."
   ]
  },
  {
   "cell_type": "code",
   "execution_count": null,
   "id": "08b5cd09-dd85-4188-86a5-b14e510e0245",
   "metadata": {},
   "outputs": [],
   "source": [
    "\"ll\".find(\"I really like dogs\")"
   ]
  },
  {
   "cell_type": "markdown",
   "id": "a83ddddf-a03a-4285-8f8b-9b742ada7278",
   "metadata": {},
   "source": [
    "That said, if you only need to check whether `s2` is in `s1`, Python has a special `in` operator for answering this question."
   ]
  },
  {
   "cell_type": "code",
   "execution_count": null,
   "id": "a36ca393-a6da-4e4c-8c53-5620e5424155",
   "metadata": {
    "tags": []
   },
   "outputs": [],
   "source": [
    "\"ll\" in \"I really like dogs\""
   ]
  },
  {
   "cell_type": "markdown",
   "id": "b901d6d1-3d8a-4868-b077-f3103e46a37e",
   "metadata": {},
   "source": [
    "For future reference, here are some commonly-used string functions. This list is useful to memorize because these functions are very frequently used, but you'll probably learn them over time just by seeing them in other peoples' code.\n",
    "\n",
    "- `s.lower()` returns a new string that is the lowercase version of `s`\n",
    "- `s.upper()` returns a new string that is the uppercase version of `s`\n",
    "- `s.find(t)` returns the index of the first occurrence of `t` in `s`. If not found, returns -1.\n",
    "- `s.strip()` returns a new string that has all the leading and trailing whitespace removed.\n",
    "  - `lstrip()` and `rstrip()` remove only left whitespace or right whitespace respectively.)\n",
    "- `s.split(delim)` returns a list consisting of the parts of `s` split up according to the `delim` (defaults to whitespace).\n",
    "- `s.join(strings)` returns a single string consisting of the given `strings` with the string `s` inserted between each string.\n",
    "\n",
    "## Lists\n",
    "\n",
    "In our definition for the `s.split(delim)` function, we introduced another data type called a list. Whereas a string is an *indexed sequence* of characters, a **list** is an *indexed sequence* that can store values of any type."
   ]
  },
  {
   "cell_type": "code",
   "execution_count": null,
   "id": "61e214af-66ac-4e82-b836-f2427b241846",
   "metadata": {
    "tags": []
   },
   "outputs": [],
   "source": [
    "\"I really like dogs\".split()"
   ]
  },
  {
   "cell_type": "markdown",
   "id": "dfa43d20-bf64-44a7-b276-9b0a3597f94c",
   "metadata": {},
   "source": [
    "The great thing about lists in Python, is that they share a lot of the same syntax for operations as strings. Concatenation, indexing, slicing, the `len` function, and `for` looping over a list all works exactly like you learned for strings.\n",
    "\n",
    "But, there is one major difference between lists and strings.\n",
    "\n",
    "- Lists are **mutable**: they allow reassignment of individual values within the list.\n",
    "- Strings are **immutable**: the characters within a string can never change. String functions like `s.lower()` return *new strings* as a result."
   ]
  },
  {
   "cell_type": "code",
   "execution_count": null,
   "id": "6435947f-b6ef-4e5d-a13a-bbeb1bb8e256",
   "metadata": {
    "tags": []
   },
   "outputs": [],
   "source": [
    "words = \"I really like dogs\".split()\n",
    "words[2] = \"love\"\n",
    "words"
   ]
  },
  {
   "cell_type": "markdown",
   "id": "c9daecbe-9f28-4d98-b9c1-be0f2e0d93e6",
   "metadata": {},
   "source": [
    "### Practice: Count votes\n",
    "\n",
    "Write a function `count_votes` that takes a list of numbers indicating votes for candidates 0, 1, or 2 and returns a new list of length 3 showing how many counts each candidate got. See the doctest below for one example."
   ]
  },
  {
   "cell_type": "code",
   "execution_count": null,
   "id": "1972acae-87a3-4c38-85fd-0b9f9b5bdd67",
   "metadata": {},
   "outputs": [],
   "source": [
    "def count_votes(votes):\n",
    "    \"\"\"\n",
    "    TODO: Your docstring here\n",
    "\n",
    "    >>> count_votes([1, 0, 1, 1, 2, 0])\n",
    "    [2, 3, 1]\n",
    "    \"\"\"\n",
    "    ...\n",
    "\n",
    "\n",
    "import doctest\n",
    "doctest.testmod()"
   ]
  },
  {
   "cell_type": "markdown",
   "id": "62fda0d5-cdd1-4b92-b1f9-e02151c63f03",
   "metadata": {},
   "source": [
    "## List functions\n",
    "\n",
    "Last time, we learned about string functions. There are also many `list` functions. Lists are mutable, so all these operations modify the given list.\n",
    "\n",
    "- `l.append(x)` adds `x` to the end of `l`.\n",
    "- `l.extend(xs)` adds all elements in `xs` to the end of `l`.\n",
    "- `l.insert(i, x)` inserts `x` at index `i` in `l`.\n",
    "- `l.remove(x)` removes the first `x` found in `l`.\n",
    "- `l.pop(i)` removes the element at index `i` in `l`.\n",
    "- `l.clear()` removes all values from `l`.\n",
    "- `l.reverse()` reverses the order of all elements in `l`.\n",
    "- `l.sort()` rearranges all elements of `l` into sorted order.\n",
    "\n",
    "Just like we learned how strings support the `in` operator, lists also support the `in` operator too."
   ]
  },
  {
   "cell_type": "code",
   "execution_count": null,
   "id": "8612f107-abca-414a-ba15-758c8fea781e",
   "metadata": {},
   "outputs": [],
   "source": [
    "words = \"I really like dogs\".split()\n",
    "\"dogs\" in words"
   ]
  }
 ],
 "metadata": {
  "kernelspec": {
   "display_name": "Python 3 (ipykernel)",
   "language": "python",
   "name": "python3"
  },
  "language_info": {
   "codemirror_mode": {
    "name": "ipython",
    "version": 3
   },
   "file_extension": ".py",
   "mimetype": "text/x-python",
   "name": "python",
   "nbconvert_exporter": "python",
   "pygments_lexer": "ipython3",
   "version": "3.10.13"
  }
 },
 "nbformat": 4,
 "nbformat_minor": 5
}
